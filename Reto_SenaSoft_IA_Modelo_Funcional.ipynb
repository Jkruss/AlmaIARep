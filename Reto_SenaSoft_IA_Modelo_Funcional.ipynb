{
  "cells": [
    {
      "cell_type": "markdown",
      "metadata": {},
      "source": []
    },
    {
      "cell_type": "code",
      "execution_count": 5,
      "metadata": {
        "colab": {
          "base_uri": "https://localhost:8080/"
        },
        "id": "HKIMp4Ngh3Y4",
        "outputId": "18420470-b2e1-4a34-ada6-a130b04bff09"
      },
      "outputs": [
        {
          "name": "stdout",
          "output_type": "stream",
          "text": [
            "✅ Importaciones completadas correctamente.\n",
            "TensorFlow versión: 2.20.0\n"
          ]
        }
      ],
      "source": [
        "# %% ================================================================\n",
        "# 📦 IMPORTACIONES OPTIMIZADAS — SENASOFT MODELO HÍBRIDO (2025)\n",
        "# ================================================================\n",
        "\n",
        "# 🔢 Manipulación de datos\n",
        "import pandas as pd\n",
        "import numpy as np\n",
        "from collections import Counter\n",
        "df = pd.read_csv(\"dataset_comunidades_senasoft.csv\")\n",
        "\n",
        "# ⚙️ Machine Learning / Modelos\n",
        "from sklearn.model_selection import StratifiedKFold, train_test_split\n",
        "from sklearn.preprocessing import RobustScaler\n",
        "from sklearn.utils.class_weight import compute_class_weight\n",
        "from sklearn.metrics import (\n",
        "    accuracy_score, precision_score, recall_score, f1_score,\n",
        "    confusion_matrix, precision_recall_curve, classification_report\n",
        ")\n",
        "from sklearn.ensemble import RandomForestClassifier, GradientBoostingClassifier\n",
        "from sklearn.linear_model import LogisticRegression\n",
        "\n",
        "# ⚖️ Balanceo de clases\n",
        "from imblearn.over_sampling import SMOTE, ADASYN\n",
        "from imblearn.combine import SMOTEENN\n",
        "\n",
        "# 🧠 Deep Learning (TensorFlow / Keras)\n",
        "import tensorflow as tf \n",
        "from tensorflow.keras.models import Sequential\n",
        "from tensorflow.keras.layers import Dense, Dropout, BatchNormalization\n",
        "from tensorflow.keras.callbacks import EarlyStopping, ReduceLROnPlateau\n",
        "from tensorflow.keras import Input, regularizers\n",
        "\n",
        "# 📊 Visualización\n",
        "import plotly.graph_objects as go\n",
        "\n",
        "# 🚫 Suprimir warnings molestos (opcional)\n",
        "import warnings\n",
        "warnings.filterwarnings(\"ignore\", category=FutureWarning)\n",
        "warnings.filterwarnings(\"ignore\", category=UserWarning)\n",
        "\n",
        "print(\"✅ Importaciones completadas correctamente.\")\n",
        "print(f\"TensorFlow versión: {tf.__version__}\")\n"
      ]
    },
    {
      "cell_type": "code",
      "execution_count": null,
      "metadata": {},
      "outputs": [
        {
          "name": "stdout",
          "output_type": "stream",
          "text": [
            "Requirement already satisfied: imbalanced-learn in c:\\users\\cmfb\\anaconda3\\lib\\site-packages (0.13.0)\n",
            "Requirement already satisfied: numpy<3,>=1.24.3 in c:\\users\\cmfb\\anaconda3\\lib\\site-packages (from imbalanced-learn) (2.1.3)\n",
            "Requirement already satisfied: scipy<2,>=1.10.1 in c:\\users\\cmfb\\anaconda3\\lib\\site-packages (from imbalanced-learn) (1.15.3)\n",
            "Requirement already satisfied: scikit-learn<2,>=1.3.2 in c:\\users\\cmfb\\anaconda3\\lib\\site-packages (from imbalanced-learn) (1.6.1)\n",
            "Requirement already satisfied: sklearn-compat<1,>=0.1 in c:\\users\\cmfb\\anaconda3\\lib\\site-packages (from imbalanced-learn) (0.1.3)\n",
            "Requirement already satisfied: joblib<2,>=1.1.1 in c:\\users\\cmfb\\anaconda3\\lib\\site-packages (from imbalanced-learn) (1.4.2)\n",
            "Requirement already satisfied: threadpoolctl<4,>=2.0.0 in c:\\users\\cmfb\\anaconda3\\lib\\site-packages (from imbalanced-learn) (3.5.0)\n"
          ]
        }
      ],
      "source": [
        "\n"
      ]
    },
    {
      "cell_type": "code",
      "execution_count": 6,
      "metadata": {
        "colab": {
          "base_uri": "https://localhost:8080/"
        },
        "id": "98nXYDTOJQb9",
        "outputId": "fa8ebd40-42d6-408c-fe02-ccc290f01e0f"
      },
      "outputs": [
        {
          "name": "stdout",
          "output_type": "stream",
          "text": [
            "======================================================================\n",
            "🧹 LIMPIEZA + RECLASIFICACIÓN DE CATEGORÍAS (por contenido de comentario)\n",
            "======================================================================\n",
            "📊 Registros iniciales: 10000\n",
            "\n",
            "✅ LIMPIEZA + RECLASIFICACIÓN COMPLETA\n",
            "📊 Registros finales totales: 10000\n",
            "🏷️ Distribución de categorías finales:\n",
            "Categoría final\n",
            "Medio Ambiente    4096\n",
            "Seguridad         2298\n",
            "Salud             2259\n",
            "Educación         1347\n",
            "Name: count, dtype: int64\n",
            "\n",
            "🧩 Distribución de niveles de urgencia:\n",
            "Urgencia_num\n",
            "1    80.93%\n",
            "0    19.07%\n",
            "Name: proportion, dtype: object\n",
            "\n",
            "🌍 Total registros de Medio Ambiente: 4096\n",
            "                                      Comentario  Urgencia_num\n",
            "0  no tenemos centros culturales ni bibliotecas.             1\n",
            "1            las basuras no se recogen a tiempo.             1\n",
            "2      la contaminación del río está aumentando.             1\n",
            "3    hay problemas con la recolección de basura.             1\n",
            "4      la contaminación del río está aumentando.             1\n",
            "5  necesitamos más acceso a internet en la zona.             0\n",
            "6            falta agua potable en varias casas.             1\n",
            "7      la contaminación del río está aumentando.             1\n",
            "8            falta agua potable en varias casas.             1\n",
            "9            falta agua potable en varias casas.             1\n"
          ]
        }
      ],
      "source": [
        "# %% ================================================================\n",
        "# 🧹 LIMPIEZA Y RECLASIFICACIÓN AUTOMÁTICA DE COMENTARIOS + URGENCIA\n",
        "# ================================================================\n",
        "\n",
        "import pandas as pd\n",
        "import numpy as np\n",
        "import re\n",
        "\n",
        "# ================================================================\n",
        "# 1️⃣ Cargar dataset\n",
        "# ================================================================\n",
        "df = pd.read_csv(\"dataset_comunidades_senasoft.csv\")\n",
        "\n",
        "print(\"=\"*70)\n",
        "print(\"🧹 LIMPIEZA + RECLASIFICACIÓN DE CATEGORÍAS (por contenido de comentario)\")\n",
        "print(\"=\"*70)\n",
        "print(f\"📊 Registros iniciales: {len(df)}\")\n",
        "\n",
        "# ================================================================\n",
        "# 2️⃣ Limpieza básica de espacios y valores nulos comunes\n",
        "# ================================================================\n",
        "for col in df.columns:\n",
        "    if df[col].dtype == 'object':\n",
        "        df[col] = df[col].apply(lambda x: x.strip() if isinstance(x, str) else x)\n",
        "\n",
        "df = df.replace(['', ' ', 'nan', 'NaN', 'None', 'null', 'NULL'], np.nan)\n",
        "\n",
        "# ================================================================\n",
        "# 3️⃣ Imputación de valores perdidos (numéricos → mediana, categóricos → moda)\n",
        "# ================================================================\n",
        "for col in df.columns:\n",
        "    if df[col].dtype in [np.float64, np.int64]:\n",
        "        df[col].fillna(df[col].median(), inplace=True)\n",
        "    else:\n",
        "        moda = df[col].mode(dropna=True)\n",
        "        if not moda.empty:\n",
        "            df[col].fillna(moda[0], inplace=True)\n",
        "\n",
        "# ================================================================\n",
        "# 4️⃣ Normalización de texto (comentarios, categoría, ciudad)\n",
        "# ================================================================\n",
        "if \"Comentario\" in df.columns:\n",
        "    df[\"Comentario\"] = df[\"Comentario\"].astype(str).str.strip().str.lower()\n",
        "\n",
        "if \"Categoría del problema\" in df.columns:\n",
        "    df[\"Categoría del problema\"] = df[\"Categoría del problema\"].astype(str).str.strip().str.title()\n",
        "\n",
        "if \"Ciudad\" in df.columns:\n",
        "    df[\"Ciudad\"] = df[\"Ciudad\"].astype(str).str.strip().str.title()\n",
        "    df[\"Ciudad\"].replace('', np.nan, inplace=True)\n",
        "\n",
        "# ================================================================\n",
        "# 5️⃣ Diccionario de palabras clave por categoría\n",
        "# ================================================================\n",
        "mapa_categorias = {\n",
        "    \"Medio Ambiente\": [\n",
        "        \"basura\", \"contaminación\", \"río\", \"ríos\", \"agua\", \"árbol\", \"medio ambiente\",\n",
        "        \"residuos\", \"limpieza\", \"aire\", \"plástico\", \"verde\", \"naturaleza\"\n",
        "    ],\n",
        "    \"Salud\": [\n",
        "        \"salud\", \"médico\", \"hospital\", \"doctor\", \"clínica\", \"enfermo\", \"vacuna\", \"medicina\"\n",
        "    ],\n",
        "    \"Educación\": [\n",
        "        \"escuela\", \"educación\", \"colegio\", \"profesor\", \"estudiante\", \"biblioteca\", \"cultural\", \"universidad\"\n",
        "    ],\n",
        "    \"Seguridad\": [\n",
        "        \"policía\", \"robo\", \"delincuencia\", \"seguridad\", \"peligroso\", \"violencia\", \"ladrones\", \"presencia policial\"\n",
        "    ]\n",
        "}\n",
        "\n",
        "# ================================================================\n",
        "# 6️⃣ Función para reclasificar según palabras clave del comentario\n",
        "# ================================================================\n",
        "def detectar_categoria(comentario):\n",
        "    if not isinstance(comentario, str) or comentario.strip() == \"\":\n",
        "        return np.nan\n",
        "    comentario = comentario.lower()\n",
        "    for categoria, palabras in mapa_categorias.items():\n",
        "        if any(re.search(rf\"\\b{palabra}\\b\", comentario) for palabra in palabras):\n",
        "            return categoria\n",
        "    return np.nan  # Si no se encuentra ninguna coincidencia\n",
        "\n",
        "# ================================================================\n",
        "# 7️⃣ Aplicar detección de categoría\n",
        "# ================================================================\n",
        "df[\"Categoría detectada\"] = df[\"Comentario\"].apply(detectar_categoria)\n",
        "\n",
        "# ================================================================\n",
        "# 8️⃣ Priorizar la categoría detectada sobre la original\n",
        "# ================================================================\n",
        "df[\"Categoría final\"] = df[\"Categoría detectada\"].combine_first(df[\"Categoría del problema\"])\n",
        "\n",
        "# ================================================================\n",
        "# 9️⃣ Filtrar categorías válidas\n",
        "# ================================================================\n",
        "df = df[df[\"Categoría final\"].isin([\"Salud\", \"Medio Ambiente\", \"Seguridad\", \"Educación\"])].copy()\n",
        "\n",
        "# ================================================================\n",
        "# 🔟 Generación automática del nivel de urgencia (Urgencia_num)\n",
        "# ================================================================\n",
        "def detectar_urgencia(texto):\n",
        "    \"\"\"\n",
        "    Asigna 1 (urgente) si el comentario expresa problema o necesidad grave,\n",
        "    0 (no urgente) en caso contrario.\n",
        "    \"\"\"\n",
        "    if not isinstance(texto, str) or texto.strip() == \"\":\n",
        "        return 0\n",
        "\n",
        "    texto = texto.lower()\n",
        "\n",
        "    palabras_urgentes = [\n",
        "        \"no hay\", \"falta\", \"problema\", \"urgente\", \"grave\", \"peligro\", \"riesgo\", \"crítico\",\n",
        "        \"contaminación\", \"basura\", \"enfermo\", \"no tenemos\", \"emergencia\"\n",
        "    ]\n",
        "\n",
        "    if any(palabra in texto for palabra in palabras_urgentes):\n",
        "        return 1\n",
        "    return 0\n",
        "\n",
        "df[\"Urgencia_num\"] = df[\"Comentario\"].apply(detectar_urgencia)\n",
        "\n",
        "# ================================================================\n",
        "# 11️⃣ Filtrar los registros de Medio Ambiente\n",
        "# ================================================================\n",
        "ambiente = df[df[\"Categoría final\"] == \"Medio Ambiente\"].copy().reset_index(drop=True)\n",
        "\n",
        "# ================================================================\n",
        "# 12️⃣ Reporte final\n",
        "# ================================================================\n",
        "print(\"\\n✅ LIMPIEZA + RECLASIFICACIÓN COMPLETA\")\n",
        "print(f\"📊 Registros finales totales: {len(df)}\")\n",
        "print(f\"🏷️ Distribución de categorías finales:\\n{df['Categoría final'].value_counts()}\")\n",
        "\n",
        "print(\"\\n🧩 Distribución de niveles de urgencia:\")\n",
        "print(df['Urgencia_num'].value_counts(normalize=True).apply(lambda x: f\"{x:.2%}\"))\n",
        "\n",
        "print(f\"\\n🌍 Total registros de Medio Ambiente: {len(ambiente)}\")\n",
        "print(ambiente[[\"Comentario\", \"Urgencia_num\"]].head(10))\n"
      ]
    },
    {
      "cell_type": "code",
      "execution_count": 7,
      "metadata": {
        "colab": {
          "base_uri": "https://localhost:8080/"
        },
        "id": "e2SX1cfSTA5d",
        "outputId": "fe1bab8f-7d8b-4de4-b88e-9d6d183cb6ef"
      },
      "outputs": [
        {
          "name": "stdout",
          "output_type": "stream",
          "text": [
            "✅ Dataset de ambiente guardado como 'dataset_ambiente_senasoft.csv'\n"
          ]
        }
      ],
      "source": [
        "ambiente.to_csv(\"dataset_ambiente_senasoft.csv\", index=False)\n",
        "print(\"✅ Dataset de ambiente guardado como 'dataset_ambiente_senasoft.csv'\")"
      ]
    },
    {
      "cell_type": "code",
      "execution_count": 8,
      "metadata": {
        "colab": {
          "base_uri": "https://localhost:8080/"
        },
        "id": "MWCnABHAJ4C0",
        "outputId": "7fc6d5f6-7757-45b9-8949-102b49bf8e72"
      },
      "outputs": [
        {
          "data": {
            "text/plain": [
              "array(['las calles están muy oscuras y peligrosas.',\n",
              "       'no tenemos centros culturales ni bibliotecas.',\n",
              "       'las basuras no se recogen a tiempo.',\n",
              "       'la contaminación del río está aumentando.',\n",
              "       'no hay suficientes escuelas públicas.',\n",
              "       'hay problemas con la recolección de basura.',\n",
              "       'necesitamos más acceso a internet en la zona.',\n",
              "       'faltan médicos en el centro de salud.',\n",
              "       'falta agua potable en varias casas.',\n",
              "       'queremos más presencia policial.'], dtype=object)"
            ]
          },
          "execution_count": 8,
          "metadata": {},
          "output_type": "execute_result"
        }
      ],
      "source": [
        "df['Comentario'].unique()"
      ]
    },
    {
      "cell_type": "code",
      "execution_count": 9,
      "metadata": {
        "colab": {
          "base_uri": "https://localhost:8080/"
        },
        "id": "VNV_leaAQYs4",
        "outputId": "d96e1519-691c-4bfc-e9b0-2d60030f612e"
      },
      "outputs": [
        {
          "data": {
            "text/plain": [
              "array(['Manizales', 'Santa Marta', 'Medellín', 'Bogotá', 'Cartagena',\n",
              "       'Cali', 'Barranquilla', 'Pereira', 'Cúcuta', 'Bucaramanga'],\n",
              "      dtype=object)"
            ]
          },
          "execution_count": 9,
          "metadata": {},
          "output_type": "execute_result"
        }
      ],
      "source": [
        "df['Ciudad'].unique()"
      ]
    },
    {
      "cell_type": "code",
      "execution_count": 10,
      "metadata": {
        "colab": {
          "base_uri": "https://localhost:8080/",
          "height": 460
        },
        "id": "2PoChsyRK5I9",
        "outputId": "ac5cd5fb-0178-46b9-8955-578982980212"
      },
      "outputs": [
        {
          "data": {
            "text/plain": [
              "ID                               0.00\n",
              "Nombre                           0.00\n",
              "Edad                             0.00\n",
              "Género                           0.00\n",
              "Ciudad                           0.00\n",
              "Comentario                       0.00\n",
              "Categoría del problema           0.00\n",
              "Nivel de urgencia                0.00\n",
              "Fecha del reporte                0.00\n",
              "Acceso a internet                0.00\n",
              "Atención previa del gobierno     0.00\n",
              "Zona rural                       0.00\n",
              "Categoría detectada             53.41\n",
              "Categoría final                  0.00\n",
              "Urgencia_num                     0.00\n",
              "dtype: float64"
            ]
          },
          "execution_count": 10,
          "metadata": {},
          "output_type": "execute_result"
        }
      ],
      "source": [
        "df.isnull().mean() * 100"
      ]
    },
    {
      "cell_type": "code",
      "execution_count": 11,
      "metadata": {
        "id": "Yw-WBGHvJTe3"
      },
      "outputs": [],
      "source": [
        "# %%\n",
        "def crear_features_efectivas(df):\n",
        "    df = df.copy()\n",
        "    df[\"Zona rural\"] = df[\"Zona rural\"].astype(int)\n",
        "    df[\"Acceso a internet\"] = df[\"Acceso a internet\"].astype(int)\n",
        "    df[\"Atención previa del gobierno\"] = df[\"Atención previa del gobierno\"].astype(int)\n",
        "    df[\"Edad\"] = df[\"Edad\"].astype(float)\n",
        "\n",
        "    df[\"Vulnerabilidad_Total\"] = (\n",
        "        df[\"Zona rural\"] * 3 +\n",
        "        (1 - df[\"Acceso a internet\"]) * 2 +\n",
        "        (1 - df[\"Atención previa del gobierno\"]) * 2.5\n",
        "    )\n",
        "    df[\"Edad_Normalizada\"] = df[\"Edad\"] / 100\n",
        "    df[\"Es_Vulnerable_Edad\"] = ((df[\"Edad\"] < 18) | (df[\"Edad\"] > 65)).astype(int)\n",
        "    df[\"Rural_Sin_Internet\"] = ((df[\"Zona rural\"] == 1) & (df[\"Acceso a internet\"] == 0)).astype(int)\n",
        "    df[\"Desatendido\"] = (df[\"Atención previa del gobierno\"] == 0).astype(int)\n",
        "    df[\"Desatendido_Rural\"] = df[\"Desatendido\"] * df[\"Zona rural\"]\n",
        "    df[\"Edad_Rural\"] = df[\"Edad\"] * df[\"Zona rural\"]\n",
        "    df[\"Internet_Atencion\"] = df[\"Acceso a internet\"] * df[\"Atención previa del gobierno\"]\n",
        "    return df\n"
      ]
    },
    {
      "cell_type": "code",
      "execution_count": 12,
      "metadata": {
        "id": "sjgSbpBjJfDt"
      },
      "outputs": [],
      "source": [
        "def build_keras_model_regularizado(input_dim):\n",
        "    \"\"\"\n",
        "    🧠 Modelo Keras optimizado para ALTA PRECISIÓN:\n",
        "    - Regularización L2 y Dropout controlado\n",
        "    - Focal Loss (mejor manejo de clases minoritarias)\n",
        "    - Métricas: precisión, recall, accuracy\n",
        "    - Optimizador AdamW con decaimiento de learning rate\n",
        "    \"\"\"\n",
        "    from tensorflow.keras import backend as K\n",
        "\n",
        "    # 🔹 Definir Focal Loss personalizada\n",
        "    def focal_loss(gamma=2., alpha=.25):\n",
        "        def focal_loss_fixed(y_true, y_pred):\n",
        "            y_true = K.cast(y_true, K.floatx())\n",
        "            bce = K.binary_crossentropy(y_true, y_pred)\n",
        "            bce_exp = K.exp(-bce)\n",
        "            focal_loss = alpha * K.pow((1 - bce_exp), gamma) * bce\n",
        "            return K.mean(focal_loss)\n",
        "        return focal_loss_fixed\n",
        "\n",
        "    # 🔹 Arquitectura\n",
        "    model = Sequential([\n",
        "        Input(shape=(input_dim,)),\n",
        "        Dense(256, activation='relu', kernel_regularizer=regularizers.l2(0.005)),\n",
        "        BatchNormalization(),\n",
        "        Dropout(0.25),\n",
        "\n",
        "        Dense(128, activation='relu', kernel_regularizer=regularizers.l2(0.005)),\n",
        "        BatchNormalization(),\n",
        "        Dropout(0.2),\n",
        "\n",
        "        Dense(64, activation='relu', kernel_regularizer=regularizers.l2(0.005)),\n",
        "        BatchNormalization(),\n",
        "\n",
        "        Dense(1, activation='sigmoid')\n",
        "    ])\n",
        "\n",
        "    # 🔹 Optimizador AdamW (más estable)\n",
        "    opt = tf.keras.optimizers.AdamW(learning_rate=0.001, weight_decay=1e-5)\n",
        "\n",
        "    # 🔹 Compilación con Focal Loss\n",
        "    model.compile(\n",
        "        optimizer=opt,\n",
        "        loss=focal_loss(gamma=2.0, alpha=0.25),\n",
        "        metrics=[\n",
        "            tf.keras.metrics.Precision(name=\"precision\"),\n",
        "            tf.keras.metrics.Recall(name=\"recall\"),\n",
        "            tf.keras.metrics.BinaryAccuracy(name=\"accuracy\")\n",
        "        ]\n",
        "    )\n",
        "\n",
        "    return model\n"
      ]
    },
    {
      "cell_type": "code",
      "execution_count": 13,
      "metadata": {
        "id": "D4y0tUKeJkn9"
      },
      "outputs": [],
      "source": [
        "def entrenar_hibrido_mejor_precision(ciudad, metodo_balanceo='smoteenn', random_state=42):\n",
        "    \"\"\"\n",
        "    Entrenamiento híbrido optimizado para mejorar PRECISIÓN:\n",
        "    - Regularización fuerte + Dropout\n",
        "    - Focal Loss\n",
        "    - Balanceo SMOTE o SMOTEENN\n",
        "    - Umbral adaptativo con precisión mínima deseada (default: 0.9)\n",
        "    \"\"\"\n",
        "\n",
        "    df_ciudad = ambiente[ambiente[\"Ciudad\"].str.lower() == ciudad.lower()].copy()\n",
        "    if df_ciudad.empty:\n",
        "        print(f\"\\n❌ No hay registros para {ciudad}\")\n",
        "        return None\n",
        "\n",
        "    print(f\"\\n{'='*70}\")\n",
        "    print(f\"📍 ENTRENANDO MODELO PARA CIUDAD: {ciudad.upper()}\")\n",
        "    print(f\"{'='*70}\")\n",
        "\n",
        "    df_ciudad = crear_features_efectivas(df_ciudad)\n",
        "\n",
        "    X = df_ciudad.select_dtypes(include=[np.number]).drop(columns=[\"Urgencia_num\"], errors=\"ignore\")\n",
        "    y = df_ciudad[\"Urgencia_num\"].astype(int)\n",
        "\n",
        "    X = X.replace([np.inf, -np.inf], np.nan).dropna()\n",
        "    y = y.loc[X.index]\n",
        "\n",
        "    if len(y) < 10 or len(np.unique(y)) < 2:\n",
        "        print(\"⚠️ Datos insuficientes para entrenamiento en esta ciudad.\")\n",
        "        return None\n",
        "\n",
        "    # 🧩 Balanceo\n",
        "    min_class = y.value_counts().min()\n",
        "    if metodo_balanceo.lower() == \"smote\" and min_class >= 6:\n",
        "        sm = SMOTE(random_state=random_state)\n",
        "        X, y = sm.fit_resample(X, y)\n",
        "        print(f\"✅ Balanceo con SMOTE → Clase 0: {sum(y==0)}, Clase 1: {sum(y==1)}\")\n",
        "    elif metodo_balanceo.lower() == \"smoteenn\" and min_class >= 6:\n",
        "        smenn = SMOTEENN(random_state=random_state)\n",
        "        X, y = smenn.fit_resample(X, y)\n",
        "        print(f\"✅ Balanceo con SMOTEENN → Clase 0: {sum(y==0)}, Clase 1: {sum(y==1)}\")\n",
        "    else:\n",
        "        print(\"⚠️ No se aplicó balanceo (datos insuficientes o método distinto).\")\n",
        "\n",
        "    # 🧮 Escalado\n",
        "    scaler = RobustScaler()\n",
        "    X_scaled = scaler.fit_transform(X)\n",
        "\n",
        "    skf = StratifiedKFold(n_splits=5, shuffle=True, random_state=random_state)\n",
        "    f1_scores, prec_scores, rec_scores, acc_scores = [], [], [], []\n",
        "    thresholds = []\n",
        "\n",
        "    for fold, (train_idx, test_idx) in enumerate(skf.split(X_scaled, y), 1):\n",
        "        print(f\"\\n📂 Fold {fold}/5\")\n",
        "\n",
        "        X_train, X_test = X_scaled[train_idx], X_scaled[test_idx]\n",
        "        y_train, y_test = y.iloc[train_idx], y.iloc[test_idx]\n",
        "\n",
        "        weights = compute_class_weight('balanced', classes=np.unique(y_train), y=y_train)\n",
        "        class_weights = dict(zip(np.unique(y_train), weights))\n",
        "\n",
        "        model = build_keras_model_regularizado(input_dim=X_train.shape[1])\n",
        "\n",
        "        callbacks = [\n",
        "            tf.keras.callbacks.EarlyStopping(monitor='val_loss', patience=8, restore_best_weights=True),\n",
        "            tf.keras.callbacks.ReduceLROnPlateau(monitor='val_loss', factor=0.3, patience=3)\n",
        "        ]\n",
        "\n",
        "        model.fit(\n",
        "            X_train, y_train,\n",
        "            validation_data=(X_test, y_test),\n",
        "            epochs=80,\n",
        "            batch_size=16,\n",
        "            verbose=0,\n",
        "            callbacks=callbacks,\n",
        "            class_weight=class_weights\n",
        "        )\n",
        "\n",
        "        y_pred_proba = model.predict(X_test).ravel()\n",
        "        prec_arr, rec_arr, th_arr = precision_recall_curve(y_test, y_pred_proba)\n",
        "\n",
        "        # 🎯 Priorizar precisión\n",
        "        desired_prec = 0.9\n",
        "        valid_idx = np.where(prec_arr >= desired_prec)[0]\n",
        "        if len(valid_idx) > 0:\n",
        "            best_idx = valid_idx[np.argmax(rec_arr[valid_idx])]\n",
        "        else:\n",
        "            best_idx = np.argmax(2 * prec_arr * rec_arr / (prec_arr + rec_arr + 1e-8))\n",
        "\n",
        "        best_th = th_arr[best_idx] if best_idx < len(th_arr) else 0.5\n",
        "        thresholds.append(best_th)\n",
        "\n",
        "        y_pred_opt = (y_pred_proba >= best_th).astype(int)\n",
        "        f1 = f1_score(y_test, y_pred_opt)\n",
        "        acc = accuracy_score(y_test, y_pred_opt)\n",
        "        prec_val = precision_score(y_test, y_pred_opt)\n",
        "        rec_val = recall_score(y_test, y_pred_opt)\n",
        "\n",
        "        f1_scores.append(f1)\n",
        "        acc_scores.append(acc)\n",
        "        prec_scores.append(prec_val)\n",
        "        rec_scores.append(rec_val)\n",
        "\n",
        "        print(f\"🔹 Fold {fold} → F1: {f1:.3f} | Acc: {acc:.3f} | Prec: {prec_val:.3f} | Rec: {rec_val:.3f} | Th: {best_th:.2f}\")\n",
        "\n",
        "    avg_threshold = np.mean(thresholds)\n",
        "    print(f\"\\n🔧 Umbral promedio (prec ≥ 0.9): {avg_threshold:.3f}\")\n",
        "\n",
        "    # 🧩 Entrenamiento final\n",
        "    model_final = build_keras_model_regularizado(input_dim=X_scaled.shape[1])\n",
        "    model_final.fit(X_scaled, y, epochs=80, batch_size=16, verbose=0)\n",
        "\n",
        "    y_pred_proba_full = model_final.predict(X_scaled).ravel()\n",
        "    y_pred_final = (y_pred_proba_full >= avg_threshold).astype(int)\n",
        "\n",
        "    print(f\"\\n🔧 Umbral global: {avg_threshold:.3f}\")\n",
        "    print(\"📊 Reporte final:\")\n",
        "    print(classification_report(y, y_pred_final, target_names=[\"No Urgente\", \"Urgente\"]))\n",
        "    print(\"📉 Matriz de confusión:\")\n",
        "    print(confusion_matrix(y, y_pred_final))\n",
        "\n",
        "    print(f\"\\n📈 F1 promedio: {np.mean(f1_scores):.3f}\")\n",
        "    print(f\"🎯 Precisión promedio: {np.mean(prec_scores):.3f}\")\n",
        "    print(f\"📉 Recall promedio: {np.mean(rec_scores):.3f}\")\n",
        "    print(f\"✅ Exactitud promedio: {np.mean(acc_scores):.3f}\")\n",
        "\n",
        "    print(f\"\\n🏁 Entrenamiento completado para {ciudad.upper()} ✅\")\n",
        "    return model_final, scaler, avg_threshold"
      ]
    },
    {
      "cell_type": "code",
      "execution_count": 14,
      "metadata": {
        "colab": {
          "base_uri": "https://localhost:8080/"
        },
        "id": "OBN5Yyl3OAJf",
        "outputId": "0bef58d4-3ab6-4ed9-915a-b3225b4c22be"
      },
      "outputs": [
        {
          "name": "stdout",
          "output_type": "stream",
          "text": [
            "\n",
            "======================================================================\n",
            "🚀 ENTRENAMIENTO HÍBRIDO (scikit-learn + Keras)\n",
            "======================================================================\n",
            "\n",
            "🌆 Ciudad: Pereira\n",
            "\n",
            "======================================================================\n",
            "📍 ENTRENANDO MODELO PARA CIUDAD: PEREIRA\n",
            "======================================================================\n",
            "✅ Balanceo con SMOTEENN → Clase 0: 128, Clase 1: 82\n",
            "\n",
            "📂 Fold 1/5\n",
            "\u001b[1m2/2\u001b[0m \u001b[32m━━━━━━━━━━━━━━━━━━━━\u001b[0m\u001b[37m\u001b[0m \u001b[1m0s\u001b[0m 181ms/step\n",
            "🔹 Fold 1 → F1: 0.867 | Acc: 0.905 | Prec: 0.929 | Rec: 0.812 | Th: 0.56\n",
            "\n",
            "📂 Fold 2/5\n",
            "\u001b[1m2/2\u001b[0m \u001b[32m━━━━━━━━━━━━━━━━━━━━\u001b[0m\u001b[37m\u001b[0m \u001b[1m0s\u001b[0m 174ms/step\n",
            "🔹 Fold 2 → F1: 0.741 | Acc: 0.833 | Prec: 0.909 | Rec: 0.625 | Th: 0.60\n",
            "\n",
            "📂 Fold 3/5\n",
            "WARNING:tensorflow:5 out of the last 5 calls to <function TensorFlowTrainer.make_predict_function.<locals>.one_step_on_data_distributed at 0x000002493448C860> triggered tf.function retracing. Tracing is expensive and the excessive number of tracings could be due to (1) creating @tf.function repeatedly in a loop, (2) passing tensors with different shapes, (3) passing Python objects instead of tensors. For (1), please define your @tf.function outside of the loop. For (2), @tf.function has reduce_retracing=True option that can avoid unnecessary retracing. For (3), please refer to https://www.tensorflow.org/guide/function#controlling_retracing and https://www.tensorflow.org/api_docs/python/tf/function for  more details.\n",
            "\u001b[1m1/2\u001b[0m \u001b[32m━━━━━━━━━━\u001b[0m\u001b[37m━━━━━━━━━━\u001b[0m \u001b[1m0s\u001b[0m 178ms/stepWARNING:tensorflow:6 out of the last 6 calls to <function TensorFlowTrainer.make_predict_function.<locals>.one_step_on_data_distributed at 0x000002493448C860> triggered tf.function retracing. Tracing is expensive and the excessive number of tracings could be due to (1) creating @tf.function repeatedly in a loop, (2) passing tensors with different shapes, (3) passing Python objects instead of tensors. For (1), please define your @tf.function outside of the loop. For (2), @tf.function has reduce_retracing=True option that can avoid unnecessary retracing. For (3), please refer to https://www.tensorflow.org/guide/function#controlling_retracing and https://www.tensorflow.org/api_docs/python/tf/function for  more details.\n",
            "\u001b[1m2/2\u001b[0m \u001b[32m━━━━━━━━━━━━━━━━━━━━\u001b[0m\u001b[37m\u001b[0m \u001b[1m0s\u001b[0m 183ms/step\n",
            "🔹 Fold 3 → F1: 0.828 | Acc: 0.881 | Prec: 0.923 | Rec: 0.750 | Th: 0.66\n",
            "\n",
            "📂 Fold 4/5\n",
            "\u001b[1m2/2\u001b[0m \u001b[32m━━━━━━━━━━━━━━━━━━━━\u001b[0m\u001b[37m\u001b[0m \u001b[1m0s\u001b[0m 173ms/step\n",
            "🔹 Fold 4 → F1: 0.211 | Acc: 0.643 | Prec: 1.000 | Rec: 0.118 | Th: 0.88\n",
            "\n",
            "📂 Fold 5/5\n",
            "\u001b[1m2/2\u001b[0m \u001b[32m━━━━━━━━━━━━━━━━━━━━\u001b[0m\u001b[37m\u001b[0m \u001b[1m0s\u001b[0m 168ms/step\n",
            "🔹 Fold 5 → F1: 0.909 | Acc: 0.929 | Prec: 0.938 | Rec: 0.882 | Th: 0.51\n",
            "\n",
            "🔧 Umbral promedio (prec ≥ 0.9): 0.641\n",
            "\u001b[1m7/7\u001b[0m \u001b[32m━━━━━━━━━━━━━━━━━━━━\u001b[0m\u001b[37m\u001b[0m \u001b[1m0s\u001b[0m 30ms/step\n",
            "\n",
            "🔧 Umbral global: 0.641\n",
            "📊 Reporte final:\n",
            "              precision    recall  f1-score   support\n",
            "\n",
            "  No Urgente       0.90      0.98      0.94       128\n",
            "     Urgente       0.97      0.83      0.89        82\n",
            "\n",
            "    accuracy                           0.92       210\n",
            "   macro avg       0.94      0.91      0.92       210\n",
            "weighted avg       0.93      0.92      0.92       210\n",
            "\n",
            "📉 Matriz de confusión:\n",
            "[[126   2]\n",
            " [ 14  68]]\n",
            "\n",
            "📈 F1 promedio: 0.711\n",
            "🎯 Precisión promedio: 0.940\n",
            "📉 Recall promedio: 0.637\n",
            "✅ Exactitud promedio: 0.838\n",
            "\n",
            "🏁 Entrenamiento completado para PEREIRA ✅\n",
            "✅ Pereira entrenada correctamente. Umbral óptimo: 0.641\n",
            "\n",
            "----------------------------------------------------------------------\n",
            "\n",
            "\n",
            "🌆 Ciudad: Bogotá\n",
            "\n",
            "======================================================================\n",
            "📍 ENTRENANDO MODELO PARA CIUDAD: BOGOTÁ\n",
            "======================================================================\n",
            "✅ Balanceo con SMOTEENN → Clase 0: 212, Clase 1: 166\n",
            "\n",
            "📂 Fold 1/5\n",
            "\u001b[1m3/3\u001b[0m \u001b[32m━━━━━━━━━━━━━━━━━━━━\u001b[0m\u001b[37m\u001b[0m \u001b[1m0s\u001b[0m 83ms/step\n",
            "🔹 Fold 1 → F1: 0.909 | Acc: 0.921 | Prec: 0.909 | Rec: 0.909 | Th: 0.48\n",
            "\n",
            "📂 Fold 2/5\n",
            "\u001b[1m3/3\u001b[0m \u001b[32m━━━━━━━━━━━━━━━━━━━━\u001b[0m\u001b[37m\u001b[0m \u001b[1m0s\u001b[0m 86ms/step\n",
            "🔹 Fold 2 → F1: 0.814 | Acc: 0.855 | Prec: 0.923 | Rec: 0.727 | Th: 0.62\n",
            "\n",
            "📂 Fold 3/5\n",
            "\u001b[1m3/3\u001b[0m \u001b[32m━━━━━━━━━━━━━━━━━━━━\u001b[0m\u001b[37m\u001b[0m \u001b[1m0s\u001b[0m 84ms/step\n",
            "🔹 Fold 3 → F1: 0.912 | Acc: 0.921 | Prec: 0.912 | Rec: 0.912 | Th: 0.41\n",
            "\n",
            "📂 Fold 4/5\n",
            "\u001b[1m3/3\u001b[0m \u001b[32m━━━━━━━━━━━━━━━━━━━━\u001b[0m\u001b[37m\u001b[0m \u001b[1m1s\u001b[0m 422ms/step\n",
            "🔹 Fold 4 → F1: 0.925 | Acc: 0.933 | Prec: 0.912 | Rec: 0.939 | Th: 0.51\n",
            "\n",
            "📂 Fold 5/5\n",
            "\u001b[1m3/3\u001b[0m \u001b[32m━━━━━━━━━━━━━━━━━━━━\u001b[0m\u001b[37m\u001b[0m \u001b[1m0s\u001b[0m 85ms/step\n",
            "🔹 Fold 5 → F1: 0.727 | Acc: 0.800 | Prec: 0.909 | Rec: 0.606 | Th: 0.64\n",
            "\n",
            "🔧 Umbral promedio (prec ≥ 0.9): 0.532\n",
            "\u001b[1m12/12\u001b[0m \u001b[32m━━━━━━━━━━━━━━━━━━━━\u001b[0m\u001b[37m\u001b[0m \u001b[1m0s\u001b[0m 17ms/step\n",
            "\n",
            "🔧 Umbral global: 0.532\n",
            "📊 Reporte final:\n",
            "              precision    recall  f1-score   support\n",
            "\n",
            "  No Urgente       0.92      0.93      0.93       212\n",
            "     Urgente       0.91      0.89      0.90       166\n",
            "\n",
            "    accuracy                           0.92       378\n",
            "   macro avg       0.92      0.91      0.91       378\n",
            "weighted avg       0.92      0.92      0.92       378\n",
            "\n",
            "📉 Matriz de confusión:\n",
            "[[198  14]\n",
            " [ 18 148]]\n",
            "\n",
            "📈 F1 promedio: 0.857\n",
            "🎯 Precisión promedio: 0.913\n",
            "📉 Recall promedio: 0.819\n",
            "✅ Exactitud promedio: 0.886\n",
            "\n",
            "🏁 Entrenamiento completado para BOGOTÁ ✅\n",
            "✅ Bogotá entrenada correctamente. Umbral óptimo: 0.532\n",
            "\n",
            "----------------------------------------------------------------------\n",
            "\n",
            "\n",
            "🌆 Ciudad: Cali\n",
            "\n",
            "======================================================================\n",
            "📍 ENTRENANDO MODELO PARA CIUDAD: CALI\n",
            "======================================================================\n",
            "✅ Balanceo con SMOTEENN → Clase 0: 226, Clase 1: 177\n",
            "\n",
            "📂 Fold 1/5\n",
            "\u001b[1m3/3\u001b[0m \u001b[32m━━━━━━━━━━━━━━━━━━━━\u001b[0m\u001b[37m\u001b[0m \u001b[1m0s\u001b[0m 59ms/step\n",
            "🔹 Fold 1 → F1: 0.944 | Acc: 0.951 | Prec: 0.919 | Rec: 0.971 | Th: 0.48\n",
            "\n",
            "📂 Fold 2/5\n",
            "\u001b[1m3/3\u001b[0m \u001b[32m━━━━━━━━━━━━━━━━━━━━\u001b[0m\u001b[37m\u001b[0m \u001b[1m0s\u001b[0m 58ms/step\n",
            "🔹 Fold 2 → F1: 0.932 | Acc: 0.938 | Prec: 0.919 | Rec: 0.944 | Th: 0.43\n",
            "\n",
            "📂 Fold 3/5\n",
            "\u001b[1m3/3\u001b[0m \u001b[32m━━━━━━━━━━━━━━━━━━━━\u001b[0m\u001b[37m\u001b[0m \u001b[1m0s\u001b[0m 56ms/step\n",
            "🔹 Fold 3 → F1: 0.932 | Acc: 0.938 | Prec: 0.919 | Rec: 0.944 | Th: 0.48\n",
            "\n",
            "📂 Fold 4/5\n",
            "\u001b[1m3/3\u001b[0m \u001b[32m━━━━━━━━━━━━━━━━━━━━\u001b[0m\u001b[37m\u001b[0m \u001b[1m0s\u001b[0m 56ms/step\n",
            "🔹 Fold 4 → F1: 0.944 | Acc: 0.950 | Prec: 0.919 | Rec: 0.971 | Th: 0.44\n",
            "\n",
            "📂 Fold 5/5\n",
            "\u001b[1m3/3\u001b[0m \u001b[32m━━━━━━━━━━━━━━━━━━━━\u001b[0m\u001b[37m\u001b[0m \u001b[1m0s\u001b[0m 81ms/step\n",
            "🔹 Fold 5 → F1: 0.914 | Acc: 0.925 | Prec: 0.914 | Rec: 0.914 | Th: 0.48\n",
            "\n",
            "🔧 Umbral promedio (prec ≥ 0.9): 0.463\n",
            "\u001b[1m13/13\u001b[0m \u001b[32m━━━━━━━━━━━━━━━━━━━━\u001b[0m\u001b[37m\u001b[0m \u001b[1m0s\u001b[0m 17ms/step\n",
            "\n",
            "🔧 Umbral global: 0.463\n",
            "📊 Reporte final:\n",
            "              precision    recall  f1-score   support\n",
            "\n",
            "  No Urgente       0.96      0.92      0.94       226\n",
            "     Urgente       0.91      0.95      0.93       177\n",
            "\n",
            "    accuracy                           0.94       403\n",
            "   macro avg       0.94      0.94      0.94       403\n",
            "weighted avg       0.94      0.94      0.94       403\n",
            "\n",
            "📉 Matriz de confusión:\n",
            "[[209  17]\n",
            " [  8 169]]\n",
            "\n",
            "📈 F1 promedio: 0.933\n",
            "🎯 Precisión promedio: 0.918\n",
            "📉 Recall promedio: 0.949\n",
            "✅ Exactitud promedio: 0.940\n",
            "\n",
            "🏁 Entrenamiento completado para CALI ✅\n",
            "✅ Cali entrenada correctamente. Umbral óptimo: 0.463\n",
            "\n",
            "----------------------------------------------------------------------\n",
            "\n",
            "🏁 ENTRENAMIENTO COMPLETADO PARA TODAS LAS CIUDADES\n"
          ]
        }
      ],
      "source": [
        "# %%\n",
        "print(\"\\n\" + \"=\"*70)\n",
        "print(\"🚀 ENTRENAMIENTO HÍBRIDO (scikit-learn + Keras)\")\n",
        "print(\"=\"*70)\n",
        "\n",
        "ciudades = [\"Pereira\", \"Bogotá\", \"Cali\"]\n",
        "resultados = {}\n",
        "\n",
        "for ciudad in ciudades:\n",
        "    print(f\"\\n🌆 Ciudad: {ciudad}\")\n",
        "    try:\n",
        "        modelo, escalador, umbral = entrenar_hibrido_mejor_precision(ciudad, metodo_balanceo='smoteenn')\n",
        "\n",
        "        # Guardar resultados por ciudad\n",
        "        resultados[ciudad] = {\n",
        "            \"modelo\": modelo,\n",
        "            \"escalador\": escalador,\n",
        "            \"umbral\": umbral\n",
        "        }\n",
        "\n",
        "        print(f\"✅ {ciudad} entrenada correctamente. Umbral óptimo: {umbral:.3f}\")\n",
        "    except Exception as e:\n",
        "        print(f\"❌ Error entrenando {ciudad}: {str(e)}\")\n",
        "\n",
        "    print(f\"\\n{'-'*70}\\n\")\n",
        "\n",
        "print(\"🏁 ENTRENAMIENTO COMPLETADO PARA TODAS LAS CIUDADES\")\n"
      ]
    },
    {
      "cell_type": "code",
      "execution_count": 15,
      "metadata": {
        "colab": {
          "base_uri": "https://localhost:8080/",
          "height": 1000,
          "referenced_widgets": [
            "bc4560a1b6644872b0fba62870f95b46",
            "ab07121f2dda4b7a8dc501df6d753162",
            "4b0f87ee1331447ab4f6ba770b63c828"
          ]
        },
        "id": "98605PeY6ShP",
        "outputId": "703d900c-fd55-47c5-a43f-f94bdd09ecc4"
      },
      "outputs": [
        {
          "data": {
            "application/vnd.plotly.v1+json": {
              "config": {
                "plotlyServerURL": "https://plot.ly"
              },
              "data": [
                {
                  "hovertemplate": "Nivel de urgencia=%{x}<br>Cantidad=%{text}<extra></extra>",
                  "legendgroup": "urgente",
                  "marker": {
                    "color": "#636efa",
                    "pattern": {
                      "shape": ""
                    }
                  },
                  "name": "urgente",
                  "orientation": "v",
                  "showlegend": true,
                  "text": {
                    "bdata": "AAAAAABgYEA=",
                    "dtype": "f8"
                  },
                  "textposition": "outside",
                  "type": "bar",
                  "x": [
                    "urgente"
                  ],
                  "xaxis": "x",
                  "y": {
                    "bdata": "gwA=",
                    "dtype": "i2"
                  },
                  "yaxis": "y"
                },
                {
                  "hovertemplate": "Nivel de urgencia=%{x}<br>Cantidad=%{text}<extra></extra>",
                  "legendgroup": "no urgente",
                  "marker": {
                    "color": "#EF553B",
                    "pattern": {
                      "shape": ""
                    }
                  },
                  "name": "no urgente",
                  "orientation": "v",
                  "showlegend": true,
                  "text": {
                    "bdata": "AAAAAACAXkA=",
                    "dtype": "f8"
                  },
                  "textposition": "outside",
                  "type": "bar",
                  "x": [
                    "no urgente"
                  ],
                  "xaxis": "x",
                  "y": {
                    "bdata": "eg==",
                    "dtype": "i1"
                  },
                  "yaxis": "y"
                }
              ],
              "layout": {
                "barmode": "relative",
                "legend": {
                  "title": {
                    "text": "Nivel de urgencia"
                  },
                  "tracegroupgap": 0
                },
                "template": {
                  "data": {
                    "bar": [
                      {
                        "error_x": {
                          "color": "#2a3f5f"
                        },
                        "error_y": {
                          "color": "#2a3f5f"
                        },
                        "marker": {
                          "line": {
                            "color": "white",
                            "width": 0.5
                          },
                          "pattern": {
                            "fillmode": "overlay",
                            "size": 10,
                            "solidity": 0.2
                          }
                        },
                        "type": "bar"
                      }
                    ],
                    "barpolar": [
                      {
                        "marker": {
                          "line": {
                            "color": "white",
                            "width": 0.5
                          },
                          "pattern": {
                            "fillmode": "overlay",
                            "size": 10,
                            "solidity": 0.2
                          }
                        },
                        "type": "barpolar"
                      }
                    ],
                    "carpet": [
                      {
                        "aaxis": {
                          "endlinecolor": "#2a3f5f",
                          "gridcolor": "#C8D4E3",
                          "linecolor": "#C8D4E3",
                          "minorgridcolor": "#C8D4E3",
                          "startlinecolor": "#2a3f5f"
                        },
                        "baxis": {
                          "endlinecolor": "#2a3f5f",
                          "gridcolor": "#C8D4E3",
                          "linecolor": "#C8D4E3",
                          "minorgridcolor": "#C8D4E3",
                          "startlinecolor": "#2a3f5f"
                        },
                        "type": "carpet"
                      }
                    ],
                    "choropleth": [
                      {
                        "colorbar": {
                          "outlinewidth": 0,
                          "ticks": ""
                        },
                        "type": "choropleth"
                      }
                    ],
                    "contour": [
                      {
                        "colorbar": {
                          "outlinewidth": 0,
                          "ticks": ""
                        },
                        "colorscale": [
                          [
                            0,
                            "#0d0887"
                          ],
                          [
                            0.1111111111111111,
                            "#46039f"
                          ],
                          [
                            0.2222222222222222,
                            "#7201a8"
                          ],
                          [
                            0.3333333333333333,
                            "#9c179e"
                          ],
                          [
                            0.4444444444444444,
                            "#bd3786"
                          ],
                          [
                            0.5555555555555556,
                            "#d8576b"
                          ],
                          [
                            0.6666666666666666,
                            "#ed7953"
                          ],
                          [
                            0.7777777777777778,
                            "#fb9f3a"
                          ],
                          [
                            0.8888888888888888,
                            "#fdca26"
                          ],
                          [
                            1,
                            "#f0f921"
                          ]
                        ],
                        "type": "contour"
                      }
                    ],
                    "contourcarpet": [
                      {
                        "colorbar": {
                          "outlinewidth": 0,
                          "ticks": ""
                        },
                        "type": "contourcarpet"
                      }
                    ],
                    "heatmap": [
                      {
                        "colorbar": {
                          "outlinewidth": 0,
                          "ticks": ""
                        },
                        "colorscale": [
                          [
                            0,
                            "#0d0887"
                          ],
                          [
                            0.1111111111111111,
                            "#46039f"
                          ],
                          [
                            0.2222222222222222,
                            "#7201a8"
                          ],
                          [
                            0.3333333333333333,
                            "#9c179e"
                          ],
                          [
                            0.4444444444444444,
                            "#bd3786"
                          ],
                          [
                            0.5555555555555556,
                            "#d8576b"
                          ],
                          [
                            0.6666666666666666,
                            "#ed7953"
                          ],
                          [
                            0.7777777777777778,
                            "#fb9f3a"
                          ],
                          [
                            0.8888888888888888,
                            "#fdca26"
                          ],
                          [
                            1,
                            "#f0f921"
                          ]
                        ],
                        "type": "heatmap"
                      }
                    ],
                    "histogram": [
                      {
                        "marker": {
                          "pattern": {
                            "fillmode": "overlay",
                            "size": 10,
                            "solidity": 0.2
                          }
                        },
                        "type": "histogram"
                      }
                    ],
                    "histogram2d": [
                      {
                        "colorbar": {
                          "outlinewidth": 0,
                          "ticks": ""
                        },
                        "colorscale": [
                          [
                            0,
                            "#0d0887"
                          ],
                          [
                            0.1111111111111111,
                            "#46039f"
                          ],
                          [
                            0.2222222222222222,
                            "#7201a8"
                          ],
                          [
                            0.3333333333333333,
                            "#9c179e"
                          ],
                          [
                            0.4444444444444444,
                            "#bd3786"
                          ],
                          [
                            0.5555555555555556,
                            "#d8576b"
                          ],
                          [
                            0.6666666666666666,
                            "#ed7953"
                          ],
                          [
                            0.7777777777777778,
                            "#fb9f3a"
                          ],
                          [
                            0.8888888888888888,
                            "#fdca26"
                          ],
                          [
                            1,
                            "#f0f921"
                          ]
                        ],
                        "type": "histogram2d"
                      }
                    ],
                    "histogram2dcontour": [
                      {
                        "colorbar": {
                          "outlinewidth": 0,
                          "ticks": ""
                        },
                        "colorscale": [
                          [
                            0,
                            "#0d0887"
                          ],
                          [
                            0.1111111111111111,
                            "#46039f"
                          ],
                          [
                            0.2222222222222222,
                            "#7201a8"
                          ],
                          [
                            0.3333333333333333,
                            "#9c179e"
                          ],
                          [
                            0.4444444444444444,
                            "#bd3786"
                          ],
                          [
                            0.5555555555555556,
                            "#d8576b"
                          ],
                          [
                            0.6666666666666666,
                            "#ed7953"
                          ],
                          [
                            0.7777777777777778,
                            "#fb9f3a"
                          ],
                          [
                            0.8888888888888888,
                            "#fdca26"
                          ],
                          [
                            1,
                            "#f0f921"
                          ]
                        ],
                        "type": "histogram2dcontour"
                      }
                    ],
                    "mesh3d": [
                      {
                        "colorbar": {
                          "outlinewidth": 0,
                          "ticks": ""
                        },
                        "type": "mesh3d"
                      }
                    ],
                    "parcoords": [
                      {
                        "line": {
                          "colorbar": {
                            "outlinewidth": 0,
                            "ticks": ""
                          }
                        },
                        "type": "parcoords"
                      }
                    ],
                    "pie": [
                      {
                        "automargin": true,
                        "type": "pie"
                      }
                    ],
                    "scatter": [
                      {
                        "fillpattern": {
                          "fillmode": "overlay",
                          "size": 10,
                          "solidity": 0.2
                        },
                        "type": "scatter"
                      }
                    ],
                    "scatter3d": [
                      {
                        "line": {
                          "colorbar": {
                            "outlinewidth": 0,
                            "ticks": ""
                          }
                        },
                        "marker": {
                          "colorbar": {
                            "outlinewidth": 0,
                            "ticks": ""
                          }
                        },
                        "type": "scatter3d"
                      }
                    ],
                    "scattercarpet": [
                      {
                        "marker": {
                          "colorbar": {
                            "outlinewidth": 0,
                            "ticks": ""
                          }
                        },
                        "type": "scattercarpet"
                      }
                    ],
                    "scattergeo": [
                      {
                        "marker": {
                          "colorbar": {
                            "outlinewidth": 0,
                            "ticks": ""
                          }
                        },
                        "type": "scattergeo"
                      }
                    ],
                    "scattergl": [
                      {
                        "marker": {
                          "colorbar": {
                            "outlinewidth": 0,
                            "ticks": ""
                          }
                        },
                        "type": "scattergl"
                      }
                    ],
                    "scattermap": [
                      {
                        "marker": {
                          "colorbar": {
                            "outlinewidth": 0,
                            "ticks": ""
                          }
                        },
                        "type": "scattermap"
                      }
                    ],
                    "scattermapbox": [
                      {
                        "marker": {
                          "colorbar": {
                            "outlinewidth": 0,
                            "ticks": ""
                          }
                        },
                        "type": "scattermapbox"
                      }
                    ],
                    "scatterpolar": [
                      {
                        "marker": {
                          "colorbar": {
                            "outlinewidth": 0,
                            "ticks": ""
                          }
                        },
                        "type": "scatterpolar"
                      }
                    ],
                    "scatterpolargl": [
                      {
                        "marker": {
                          "colorbar": {
                            "outlinewidth": 0,
                            "ticks": ""
                          }
                        },
                        "type": "scatterpolargl"
                      }
                    ],
                    "scatterternary": [
                      {
                        "marker": {
                          "colorbar": {
                            "outlinewidth": 0,
                            "ticks": ""
                          }
                        },
                        "type": "scatterternary"
                      }
                    ],
                    "surface": [
                      {
                        "colorbar": {
                          "outlinewidth": 0,
                          "ticks": ""
                        },
                        "colorscale": [
                          [
                            0,
                            "#0d0887"
                          ],
                          [
                            0.1111111111111111,
                            "#46039f"
                          ],
                          [
                            0.2222222222222222,
                            "#7201a8"
                          ],
                          [
                            0.3333333333333333,
                            "#9c179e"
                          ],
                          [
                            0.4444444444444444,
                            "#bd3786"
                          ],
                          [
                            0.5555555555555556,
                            "#d8576b"
                          ],
                          [
                            0.6666666666666666,
                            "#ed7953"
                          ],
                          [
                            0.7777777777777778,
                            "#fb9f3a"
                          ],
                          [
                            0.8888888888888888,
                            "#fdca26"
                          ],
                          [
                            1,
                            "#f0f921"
                          ]
                        ],
                        "type": "surface"
                      }
                    ],
                    "table": [
                      {
                        "cells": {
                          "fill": {
                            "color": "#EBF0F8"
                          },
                          "line": {
                            "color": "white"
                          }
                        },
                        "header": {
                          "fill": {
                            "color": "#C8D4E3"
                          },
                          "line": {
                            "color": "white"
                          }
                        },
                        "type": "table"
                      }
                    ]
                  },
                  "layout": {
                    "annotationdefaults": {
                      "arrowcolor": "#2a3f5f",
                      "arrowhead": 0,
                      "arrowwidth": 1
                    },
                    "autotypenumbers": "strict",
                    "coloraxis": {
                      "colorbar": {
                        "outlinewidth": 0,
                        "ticks": ""
                      }
                    },
                    "colorscale": {
                      "diverging": [
                        [
                          0,
                          "#8e0152"
                        ],
                        [
                          0.1,
                          "#c51b7d"
                        ],
                        [
                          0.2,
                          "#de77ae"
                        ],
                        [
                          0.3,
                          "#f1b6da"
                        ],
                        [
                          0.4,
                          "#fde0ef"
                        ],
                        [
                          0.5,
                          "#f7f7f7"
                        ],
                        [
                          0.6,
                          "#e6f5d0"
                        ],
                        [
                          0.7,
                          "#b8e186"
                        ],
                        [
                          0.8,
                          "#7fbc41"
                        ],
                        [
                          0.9,
                          "#4d9221"
                        ],
                        [
                          1,
                          "#276419"
                        ]
                      ],
                      "sequential": [
                        [
                          0,
                          "#0d0887"
                        ],
                        [
                          0.1111111111111111,
                          "#46039f"
                        ],
                        [
                          0.2222222222222222,
                          "#7201a8"
                        ],
                        [
                          0.3333333333333333,
                          "#9c179e"
                        ],
                        [
                          0.4444444444444444,
                          "#bd3786"
                        ],
                        [
                          0.5555555555555556,
                          "#d8576b"
                        ],
                        [
                          0.6666666666666666,
                          "#ed7953"
                        ],
                        [
                          0.7777777777777778,
                          "#fb9f3a"
                        ],
                        [
                          0.8888888888888888,
                          "#fdca26"
                        ],
                        [
                          1,
                          "#f0f921"
                        ]
                      ],
                      "sequentialminus": [
                        [
                          0,
                          "#0d0887"
                        ],
                        [
                          0.1111111111111111,
                          "#46039f"
                        ],
                        [
                          0.2222222222222222,
                          "#7201a8"
                        ],
                        [
                          0.3333333333333333,
                          "#9c179e"
                        ],
                        [
                          0.4444444444444444,
                          "#bd3786"
                        ],
                        [
                          0.5555555555555556,
                          "#d8576b"
                        ],
                        [
                          0.6666666666666666,
                          "#ed7953"
                        ],
                        [
                          0.7777777777777778,
                          "#fb9f3a"
                        ],
                        [
                          0.8888888888888888,
                          "#fdca26"
                        ],
                        [
                          1,
                          "#f0f921"
                        ]
                      ]
                    },
                    "colorway": [
                      "#636efa",
                      "#EF553B",
                      "#00cc96",
                      "#ab63fa",
                      "#FFA15A",
                      "#19d3f3",
                      "#FF6692",
                      "#B6E880",
                      "#FF97FF",
                      "#FECB52"
                    ],
                    "font": {
                      "color": "#2a3f5f"
                    },
                    "geo": {
                      "bgcolor": "white",
                      "lakecolor": "white",
                      "landcolor": "white",
                      "showlakes": true,
                      "showland": true,
                      "subunitcolor": "#C8D4E3"
                    },
                    "hoverlabel": {
                      "align": "left"
                    },
                    "hovermode": "closest",
                    "mapbox": {
                      "style": "light"
                    },
                    "paper_bgcolor": "white",
                    "plot_bgcolor": "white",
                    "polar": {
                      "angularaxis": {
                        "gridcolor": "#EBF0F8",
                        "linecolor": "#EBF0F8",
                        "ticks": ""
                      },
                      "bgcolor": "white",
                      "radialaxis": {
                        "gridcolor": "#EBF0F8",
                        "linecolor": "#EBF0F8",
                        "ticks": ""
                      }
                    },
                    "scene": {
                      "xaxis": {
                        "backgroundcolor": "white",
                        "gridcolor": "#DFE8F3",
                        "gridwidth": 2,
                        "linecolor": "#EBF0F8",
                        "showbackground": true,
                        "ticks": "",
                        "zerolinecolor": "#EBF0F8"
                      },
                      "yaxis": {
                        "backgroundcolor": "white",
                        "gridcolor": "#DFE8F3",
                        "gridwidth": 2,
                        "linecolor": "#EBF0F8",
                        "showbackground": true,
                        "ticks": "",
                        "zerolinecolor": "#EBF0F8"
                      },
                      "zaxis": {
                        "backgroundcolor": "white",
                        "gridcolor": "#DFE8F3",
                        "gridwidth": 2,
                        "linecolor": "#EBF0F8",
                        "showbackground": true,
                        "ticks": "",
                        "zerolinecolor": "#EBF0F8"
                      }
                    },
                    "shapedefaults": {
                      "line": {
                        "color": "#2a3f5f"
                      }
                    },
                    "ternary": {
                      "aaxis": {
                        "gridcolor": "#DFE8F3",
                        "linecolor": "#A2B1C6",
                        "ticks": ""
                      },
                      "baxis": {
                        "gridcolor": "#DFE8F3",
                        "linecolor": "#A2B1C6",
                        "ticks": ""
                      },
                      "bgcolor": "white",
                      "caxis": {
                        "gridcolor": "#DFE8F3",
                        "linecolor": "#A2B1C6",
                        "ticks": ""
                      }
                    },
                    "title": {
                      "x": 0.05
                    },
                    "xaxis": {
                      "automargin": true,
                      "gridcolor": "#EBF0F8",
                      "linecolor": "#EBF0F8",
                      "ticks": "",
                      "title": {
                        "standoff": 15
                      },
                      "zerolinecolor": "#EBF0F8",
                      "zerolinewidth": 2
                    },
                    "yaxis": {
                      "automargin": true,
                      "gridcolor": "#EBF0F8",
                      "linecolor": "#EBF0F8",
                      "ticks": "",
                      "title": {
                        "standoff": 15
                      },
                      "zerolinecolor": "#EBF0F8",
                      "zerolinewidth": 2
                    }
                  }
                },
                "title": {
                  "text": "Distribución de Nivel de Urgencia - Bogotá"
                },
                "xaxis": {
                  "anchor": "y",
                  "categoryarray": [
                    "urgente",
                    "no urgente"
                  ],
                  "categoryorder": "array",
                  "domain": [
                    0,
                    1
                  ],
                  "title": {
                    "text": "Nivel de urgencia"
                  }
                },
                "yaxis": {
                  "anchor": "x",
                  "domain": [
                    0,
                    1
                  ],
                  "title": {
                    "text": "Cantidad"
                  }
                }
              }
            }
          },
          "metadata": {},
          "output_type": "display_data"
        },
        {
          "data": {
            "application/vnd.plotly.v1+json": {
              "config": {
                "plotlyServerURL": "https://plot.ly"
              },
              "data": [
                {
                  "bingroup": "x",
                  "hovertemplate": "Nivel de urgencia=no urgente<br>Edad=%{x}<br>count=%{y}<extra></extra>",
                  "legendgroup": "no urgente",
                  "marker": {
                    "color": "#636efa",
                    "pattern": {
                      "shape": ""
                    }
                  },
                  "name": "no urgente",
                  "nbinsx": 20,
                  "orientation": "v",
                  "showlegend": true,
                  "type": "histogram",
                  "x": {
                    "bdata": "AAAAAAAAM0AAAAAAAAA2QAAAAAAAgElAAAAAAACAQUAAAAAAAIBFQAAAAAAAAERAAAAAAAAAMUAAAAAAAEBQQAAAAAAAAFBAAAAAAAAAOUAAAAAAAABQQAAAAAAAgEFAAAAAAACAS0AAAAAAAABMQAAAAAAAAD5AAAAAAAAARkAAAAAAAABEQAAAAAAAAE9AAAAAAACAS0AAAAAAAABDQAAAAAAAADVAAAAAAACATEAAAAAAAAA0QAAAAAAAADpAAAAAAAAANkAAAAAAAIBFQAAAAAAAQFFAAAAAAAAAMEAAAAAAAAA1QAAAAAAAwFNAAAAAAAAAPEAAAAAAAIBOQAAAAAAAADhAAAAAAACARUAAAAAAAAAxQAAAAAAAgENAAAAAAAAAREAAAAAAAIBAQAAAAAAAgElAAAAAAABAUUAAAAAAAABPQAAAAAAAAEZAAAAAAAAASEAAAAAAAIBAQAAAAAAAgE1AAAAAAACATUAAAAAAAABSQAAAAAAAQFNAAAAAAAAAQEAAAAAAAMBQQAAAAAAAgEJAAAAAAAAATEAAAAAAAABIQAAAAAAAwFBAAAAAAACAREAAAAAAAABHQAAAAAAAQFFAAAAAAAAAO0AAAAAAAIBBQAAAAAAAgERAAAAAAAAAUkAAAAAAAEBTQAAAAAAAQFFAAAAAAACASUAAAAAAAABMQAAAAAAAgE1AAAAAAACAUkAAAAAAAAA6QAAAAAAAADhAAAAAAAAATUAAAAAAAABNQAAAAAAAgEJAAAAAAACASEAAAAAAAAA2QAAAAAAAADNAAAAAAACAUEAAAAAAAEBRQAAAAAAAADhAAAAAAACAQ0AAAAAAAAA7QAAAAAAAAEdAAAAAAACATEAAAAAAAIBGQAAAAAAAAFFAAAAAAACATkAAAAAAAABBQAAAAAAAgEVAAAAAAAAAPUAAAAAAAAA/QAAAAAAAgE1AAAAAAACASEAAAAAAAAAyQAAAAAAAADtAAAAAAACAS0AAAAAAAABUQAAAAAAAwFNAAAAAAADAUEAAAAAAAABPQAAAAAAAAFBAAAAAAAAAPkAAAAAAAABKQAAAAAAAAEdAAAAAAAAATkAAAAAAAEBTQAAAAAAAAEhAAAAAAADAUUAAAAAAAIBIQAAAAAAAAElAAAAAAAAAUUAAAAAAAAA8QAAAAAAAgENAAAAAAACARUAAAAAAAIBTQAAAAAAAAEFAAAAAAACAQkAAAAAAAABSQAAAAAAAwFBAAAAAAAAAPEAAAAAAAABOQAAAAAAAAFFAAAAAAAAANkAAAAAAAAAyQA==",
                    "dtype": "f8"
                  },
                  "xaxis": "x",
                  "yaxis": "y"
                },
                {
                  "hovertemplate": "Nivel de urgencia=no urgente<br>Edad=%{x}<extra></extra>",
                  "legendgroup": "no urgente",
                  "marker": {
                    "color": "#636efa"
                  },
                  "name": "no urgente",
                  "notched": true,
                  "showlegend": false,
                  "type": "box",
                  "x": {
                    "bdata": "AAAAAAAAM0AAAAAAAAA2QAAAAAAAgElAAAAAAACAQUAAAAAAAIBFQAAAAAAAAERAAAAAAAAAMUAAAAAAAEBQQAAAAAAAAFBAAAAAAAAAOUAAAAAAAABQQAAAAAAAgEFAAAAAAACAS0AAAAAAAABMQAAAAAAAAD5AAAAAAAAARkAAAAAAAABEQAAAAAAAAE9AAAAAAACAS0AAAAAAAABDQAAAAAAAADVAAAAAAACATEAAAAAAAAA0QAAAAAAAADpAAAAAAAAANkAAAAAAAIBFQAAAAAAAQFFAAAAAAAAAMEAAAAAAAAA1QAAAAAAAwFNAAAAAAAAAPEAAAAAAAIBOQAAAAAAAADhAAAAAAACARUAAAAAAAAAxQAAAAAAAgENAAAAAAAAAREAAAAAAAIBAQAAAAAAAgElAAAAAAABAUUAAAAAAAABPQAAAAAAAAEZAAAAAAAAASEAAAAAAAIBAQAAAAAAAgE1AAAAAAACATUAAAAAAAABSQAAAAAAAQFNAAAAAAAAAQEAAAAAAAMBQQAAAAAAAgEJAAAAAAAAATEAAAAAAAABIQAAAAAAAwFBAAAAAAACAREAAAAAAAABHQAAAAAAAQFFAAAAAAAAAO0AAAAAAAIBBQAAAAAAAgERAAAAAAAAAUkAAAAAAAEBTQAAAAAAAQFFAAAAAAACASUAAAAAAAABMQAAAAAAAgE1AAAAAAACAUkAAAAAAAAA6QAAAAAAAADhAAAAAAAAATUAAAAAAAABNQAAAAAAAgEJAAAAAAACASEAAAAAAAAA2QAAAAAAAADNAAAAAAACAUEAAAAAAAEBRQAAAAAAAADhAAAAAAACAQ0AAAAAAAAA7QAAAAAAAAEdAAAAAAACATEAAAAAAAIBGQAAAAAAAAFFAAAAAAACATkAAAAAAAABBQAAAAAAAgEVAAAAAAAAAPUAAAAAAAAA/QAAAAAAAgE1AAAAAAACASEAAAAAAAAAyQAAAAAAAADtAAAAAAACAS0AAAAAAAABUQAAAAAAAwFNAAAAAAADAUEAAAAAAAABPQAAAAAAAAFBAAAAAAAAAPkAAAAAAAABKQAAAAAAAAEdAAAAAAAAATkAAAAAAAEBTQAAAAAAAAEhAAAAAAADAUUAAAAAAAIBIQAAAAAAAAElAAAAAAAAAUUAAAAAAAAA8QAAAAAAAgENAAAAAAACARUAAAAAAAIBTQAAAAAAAAEFAAAAAAACAQkAAAAAAAABSQAAAAAAAwFBAAAAAAAAAPEAAAAAAAABOQAAAAAAAAFFAAAAAAAAANkAAAAAAAAAyQA==",
                    "dtype": "f8"
                  },
                  "xaxis": "x2",
                  "yaxis": "y2"
                },
                {
                  "bingroup": "x",
                  "hovertemplate": "Nivel de urgencia=urgente<br>Edad=%{x}<br>count=%{y}<extra></extra>",
                  "legendgroup": "urgente",
                  "marker": {
                    "color": "#EF553B",
                    "pattern": {
                      "shape": ""
                    }
                  },
                  "name": "urgente",
                  "nbinsx": 20,
                  "orientation": "v",
                  "showlegend": true,
                  "type": "histogram",
                  "x": {
                    "bdata": "AAAAAAAANUAAAAAAAABCQAAAAAAAAERAAAAAAAAALkAAAAAAAIBLQAAAAAAAAEtAAAAAAAAAT0AAAAAAAABAQAAAAAAAQFFAAAAAAACAT0AAAAAAAIBMQAAAAAAAAE9AAAAAAAAAOUAAAAAAAABSQAAAAAAAAFNAAAAAAADAUkAAAAAAAAA8QAAAAAAAAFNAAAAAAACARkAAAAAAAABTQAAAAAAAAEBAAAAAAAAATEAAAAAAAIBPQAAAAAAAgEhAAAAAAAAATkAAAAAAAAA2QAAAAAAAAFFAAAAAAACAT0AAAAAAAIBHQAAAAAAAQFFAAAAAAAAASkAAAAAAAAAzQAAAAAAAgE9AAAAAAACASkAAAAAAAABRQAAAAAAAAEBAAAAAAACAU0AAAAAAAAAuQAAAAAAAADlAAAAAAACASEAAAAAAAABIQAAAAAAAAFJAAAAAAAAAVEAAAAAAAAA9QAAAAAAAADxAAAAAAACATkAAAAAAAIBAQAAAAAAAgFFAAAAAAAAAQkAAAAAAAIBTQAAAAAAAQFJAAAAAAAAAOkAAAAAAAAA3QAAAAAAAQFFAAAAAAAAAPUAAAAAAAABUQAAAAAAAgEpAAAAAAAAANkAAAAAAAABDQAAAAAAAAD5AAAAAAACAUEAAAAAAAAA0QAAAAAAAgE5AAAAAAACAREAAAAAAAMBSQAAAAAAAAE5AAAAAAACAUEAAAAAAAABGQAAAAAAAwFNAAAAAAACAS0AAAAAAAIBJQAAAAAAAAElAAAAAAACAQUAAAAAAAIBOQAAAAAAAADlAAAAAAABAUEAAAAAAAABTQAAAAAAAAEZAAAAAAAAAQkAAAAAAAABEQAAAAAAAAFNAAAAAAAAAMEAAAAAAAAA3QAAAAAAAgE1AAAAAAADAU0AAAAAAAABOQAAAAAAAgE9AAAAAAACATEAAAAAAAABNQAAAAAAAAD9AAAAAAACAR0AAAAAAAIBGQAAAAAAAAEZAAAAAAAAAUkAAAAAAAABTQAAAAAAAgERAAAAAAACASkAAAAAAAAA/QAAAAAAAAD9AAAAAAAAANEAAAAAAAMBTQAAAAAAAQFNAAAAAAAAAOUAAAAAAAEBRQAAAAAAAAFJAAAAAAAAARUAAAAAAAIBMQAAAAAAAgFNAAAAAAAAAPkAAAAAAAIBOQAAAAAAAADdAAAAAAAAAVEAAAAAAAIBQQAAAAAAAADNAAAAAAAAAS0AAAAAAAABHQAAAAAAAAENAAAAAAAAAREAAAAAAAABUQAAAAAAAAEdAAAAAAACASkAAAAAAAIBBQAAAAAAAAE9AAAAAAACAT0AAAAAAAAA+QAAAAAAAQFBAAAAAAAAAR0AAAAAAAIBHQAAAAAAAAEdAAAAAAAAATUAAAAAAAAA1QA==",
                    "dtype": "f8"
                  },
                  "xaxis": "x",
                  "yaxis": "y"
                },
                {
                  "hovertemplate": "Nivel de urgencia=urgente<br>Edad=%{x}<extra></extra>",
                  "legendgroup": "urgente",
                  "marker": {
                    "color": "#EF553B"
                  },
                  "name": "urgente",
                  "notched": true,
                  "showlegend": false,
                  "type": "box",
                  "x": {
                    "bdata": "AAAAAAAANUAAAAAAAABCQAAAAAAAAERAAAAAAAAALkAAAAAAAIBLQAAAAAAAAEtAAAAAAAAAT0AAAAAAAABAQAAAAAAAQFFAAAAAAACAT0AAAAAAAIBMQAAAAAAAAE9AAAAAAAAAOUAAAAAAAABSQAAAAAAAAFNAAAAAAADAUkAAAAAAAAA8QAAAAAAAAFNAAAAAAACARkAAAAAAAABTQAAAAAAAAEBAAAAAAAAATEAAAAAAAIBPQAAAAAAAgEhAAAAAAAAATkAAAAAAAAA2QAAAAAAAAFFAAAAAAACAT0AAAAAAAIBHQAAAAAAAQFFAAAAAAAAASkAAAAAAAAAzQAAAAAAAgE9AAAAAAACASkAAAAAAAABRQAAAAAAAAEBAAAAAAACAU0AAAAAAAAAuQAAAAAAAADlAAAAAAACASEAAAAAAAABIQAAAAAAAAFJAAAAAAAAAVEAAAAAAAAA9QAAAAAAAADxAAAAAAACATkAAAAAAAIBAQAAAAAAAgFFAAAAAAAAAQkAAAAAAAIBTQAAAAAAAQFJAAAAAAAAAOkAAAAAAAAA3QAAAAAAAQFFAAAAAAAAAPUAAAAAAAABUQAAAAAAAgEpAAAAAAAAANkAAAAAAAABDQAAAAAAAAD5AAAAAAACAUEAAAAAAAAA0QAAAAAAAgE5AAAAAAACAREAAAAAAAMBSQAAAAAAAAE5AAAAAAACAUEAAAAAAAABGQAAAAAAAwFNAAAAAAACAS0AAAAAAAIBJQAAAAAAAAElAAAAAAACAQUAAAAAAAIBOQAAAAAAAADlAAAAAAABAUEAAAAAAAABTQAAAAAAAAEZAAAAAAAAAQkAAAAAAAABEQAAAAAAAAFNAAAAAAAAAMEAAAAAAAAA3QAAAAAAAgE1AAAAAAADAU0AAAAAAAABOQAAAAAAAgE9AAAAAAACATEAAAAAAAABNQAAAAAAAAD9AAAAAAACAR0AAAAAAAIBGQAAAAAAAAEZAAAAAAAAAUkAAAAAAAABTQAAAAAAAgERAAAAAAACASkAAAAAAAAA/QAAAAAAAAD9AAAAAAAAANEAAAAAAAMBTQAAAAAAAQFNAAAAAAAAAOUAAAAAAAEBRQAAAAAAAAFJAAAAAAAAARUAAAAAAAIBMQAAAAAAAgFNAAAAAAAAAPkAAAAAAAIBOQAAAAAAAADdAAAAAAAAAVEAAAAAAAIBQQAAAAAAAADNAAAAAAAAAS0AAAAAAAABHQAAAAAAAAENAAAAAAAAAREAAAAAAAABUQAAAAAAAAEdAAAAAAACASkAAAAAAAIBBQAAAAAAAAE9AAAAAAACAT0AAAAAAAAA+QAAAAAAAQFBAAAAAAAAAR0AAAAAAAIBHQAAAAAAAAEdAAAAAAAAATUAAAAAAAAA1QA==",
                    "dtype": "f8"
                  },
                  "xaxis": "x2",
                  "yaxis": "y2"
                }
              ],
              "layout": {
                "barmode": "relative",
                "legend": {
                  "title": {
                    "text": "Nivel de urgencia"
                  },
                  "tracegroupgap": 0
                },
                "template": {
                  "data": {
                    "bar": [
                      {
                        "error_x": {
                          "color": "#2a3f5f"
                        },
                        "error_y": {
                          "color": "#2a3f5f"
                        },
                        "marker": {
                          "line": {
                            "color": "white",
                            "width": 0.5
                          },
                          "pattern": {
                            "fillmode": "overlay",
                            "size": 10,
                            "solidity": 0.2
                          }
                        },
                        "type": "bar"
                      }
                    ],
                    "barpolar": [
                      {
                        "marker": {
                          "line": {
                            "color": "white",
                            "width": 0.5
                          },
                          "pattern": {
                            "fillmode": "overlay",
                            "size": 10,
                            "solidity": 0.2
                          }
                        },
                        "type": "barpolar"
                      }
                    ],
                    "carpet": [
                      {
                        "aaxis": {
                          "endlinecolor": "#2a3f5f",
                          "gridcolor": "#C8D4E3",
                          "linecolor": "#C8D4E3",
                          "minorgridcolor": "#C8D4E3",
                          "startlinecolor": "#2a3f5f"
                        },
                        "baxis": {
                          "endlinecolor": "#2a3f5f",
                          "gridcolor": "#C8D4E3",
                          "linecolor": "#C8D4E3",
                          "minorgridcolor": "#C8D4E3",
                          "startlinecolor": "#2a3f5f"
                        },
                        "type": "carpet"
                      }
                    ],
                    "choropleth": [
                      {
                        "colorbar": {
                          "outlinewidth": 0,
                          "ticks": ""
                        },
                        "type": "choropleth"
                      }
                    ],
                    "contour": [
                      {
                        "colorbar": {
                          "outlinewidth": 0,
                          "ticks": ""
                        },
                        "colorscale": [
                          [
                            0,
                            "#0d0887"
                          ],
                          [
                            0.1111111111111111,
                            "#46039f"
                          ],
                          [
                            0.2222222222222222,
                            "#7201a8"
                          ],
                          [
                            0.3333333333333333,
                            "#9c179e"
                          ],
                          [
                            0.4444444444444444,
                            "#bd3786"
                          ],
                          [
                            0.5555555555555556,
                            "#d8576b"
                          ],
                          [
                            0.6666666666666666,
                            "#ed7953"
                          ],
                          [
                            0.7777777777777778,
                            "#fb9f3a"
                          ],
                          [
                            0.8888888888888888,
                            "#fdca26"
                          ],
                          [
                            1,
                            "#f0f921"
                          ]
                        ],
                        "type": "contour"
                      }
                    ],
                    "contourcarpet": [
                      {
                        "colorbar": {
                          "outlinewidth": 0,
                          "ticks": ""
                        },
                        "type": "contourcarpet"
                      }
                    ],
                    "heatmap": [
                      {
                        "colorbar": {
                          "outlinewidth": 0,
                          "ticks": ""
                        },
                        "colorscale": [
                          [
                            0,
                            "#0d0887"
                          ],
                          [
                            0.1111111111111111,
                            "#46039f"
                          ],
                          [
                            0.2222222222222222,
                            "#7201a8"
                          ],
                          [
                            0.3333333333333333,
                            "#9c179e"
                          ],
                          [
                            0.4444444444444444,
                            "#bd3786"
                          ],
                          [
                            0.5555555555555556,
                            "#d8576b"
                          ],
                          [
                            0.6666666666666666,
                            "#ed7953"
                          ],
                          [
                            0.7777777777777778,
                            "#fb9f3a"
                          ],
                          [
                            0.8888888888888888,
                            "#fdca26"
                          ],
                          [
                            1,
                            "#f0f921"
                          ]
                        ],
                        "type": "heatmap"
                      }
                    ],
                    "histogram": [
                      {
                        "marker": {
                          "pattern": {
                            "fillmode": "overlay",
                            "size": 10,
                            "solidity": 0.2
                          }
                        },
                        "type": "histogram"
                      }
                    ],
                    "histogram2d": [
                      {
                        "colorbar": {
                          "outlinewidth": 0,
                          "ticks": ""
                        },
                        "colorscale": [
                          [
                            0,
                            "#0d0887"
                          ],
                          [
                            0.1111111111111111,
                            "#46039f"
                          ],
                          [
                            0.2222222222222222,
                            "#7201a8"
                          ],
                          [
                            0.3333333333333333,
                            "#9c179e"
                          ],
                          [
                            0.4444444444444444,
                            "#bd3786"
                          ],
                          [
                            0.5555555555555556,
                            "#d8576b"
                          ],
                          [
                            0.6666666666666666,
                            "#ed7953"
                          ],
                          [
                            0.7777777777777778,
                            "#fb9f3a"
                          ],
                          [
                            0.8888888888888888,
                            "#fdca26"
                          ],
                          [
                            1,
                            "#f0f921"
                          ]
                        ],
                        "type": "histogram2d"
                      }
                    ],
                    "histogram2dcontour": [
                      {
                        "colorbar": {
                          "outlinewidth": 0,
                          "ticks": ""
                        },
                        "colorscale": [
                          [
                            0,
                            "#0d0887"
                          ],
                          [
                            0.1111111111111111,
                            "#46039f"
                          ],
                          [
                            0.2222222222222222,
                            "#7201a8"
                          ],
                          [
                            0.3333333333333333,
                            "#9c179e"
                          ],
                          [
                            0.4444444444444444,
                            "#bd3786"
                          ],
                          [
                            0.5555555555555556,
                            "#d8576b"
                          ],
                          [
                            0.6666666666666666,
                            "#ed7953"
                          ],
                          [
                            0.7777777777777778,
                            "#fb9f3a"
                          ],
                          [
                            0.8888888888888888,
                            "#fdca26"
                          ],
                          [
                            1,
                            "#f0f921"
                          ]
                        ],
                        "type": "histogram2dcontour"
                      }
                    ],
                    "mesh3d": [
                      {
                        "colorbar": {
                          "outlinewidth": 0,
                          "ticks": ""
                        },
                        "type": "mesh3d"
                      }
                    ],
                    "parcoords": [
                      {
                        "line": {
                          "colorbar": {
                            "outlinewidth": 0,
                            "ticks": ""
                          }
                        },
                        "type": "parcoords"
                      }
                    ],
                    "pie": [
                      {
                        "automargin": true,
                        "type": "pie"
                      }
                    ],
                    "scatter": [
                      {
                        "fillpattern": {
                          "fillmode": "overlay",
                          "size": 10,
                          "solidity": 0.2
                        },
                        "type": "scatter"
                      }
                    ],
                    "scatter3d": [
                      {
                        "line": {
                          "colorbar": {
                            "outlinewidth": 0,
                            "ticks": ""
                          }
                        },
                        "marker": {
                          "colorbar": {
                            "outlinewidth": 0,
                            "ticks": ""
                          }
                        },
                        "type": "scatter3d"
                      }
                    ],
                    "scattercarpet": [
                      {
                        "marker": {
                          "colorbar": {
                            "outlinewidth": 0,
                            "ticks": ""
                          }
                        },
                        "type": "scattercarpet"
                      }
                    ],
                    "scattergeo": [
                      {
                        "marker": {
                          "colorbar": {
                            "outlinewidth": 0,
                            "ticks": ""
                          }
                        },
                        "type": "scattergeo"
                      }
                    ],
                    "scattergl": [
                      {
                        "marker": {
                          "colorbar": {
                            "outlinewidth": 0,
                            "ticks": ""
                          }
                        },
                        "type": "scattergl"
                      }
                    ],
                    "scattermap": [
                      {
                        "marker": {
                          "colorbar": {
                            "outlinewidth": 0,
                            "ticks": ""
                          }
                        },
                        "type": "scattermap"
                      }
                    ],
                    "scattermapbox": [
                      {
                        "marker": {
                          "colorbar": {
                            "outlinewidth": 0,
                            "ticks": ""
                          }
                        },
                        "type": "scattermapbox"
                      }
                    ],
                    "scatterpolar": [
                      {
                        "marker": {
                          "colorbar": {
                            "outlinewidth": 0,
                            "ticks": ""
                          }
                        },
                        "type": "scatterpolar"
                      }
                    ],
                    "scatterpolargl": [
                      {
                        "marker": {
                          "colorbar": {
                            "outlinewidth": 0,
                            "ticks": ""
                          }
                        },
                        "type": "scatterpolargl"
                      }
                    ],
                    "scatterternary": [
                      {
                        "marker": {
                          "colorbar": {
                            "outlinewidth": 0,
                            "ticks": ""
                          }
                        },
                        "type": "scatterternary"
                      }
                    ],
                    "surface": [
                      {
                        "colorbar": {
                          "outlinewidth": 0,
                          "ticks": ""
                        },
                        "colorscale": [
                          [
                            0,
                            "#0d0887"
                          ],
                          [
                            0.1111111111111111,
                            "#46039f"
                          ],
                          [
                            0.2222222222222222,
                            "#7201a8"
                          ],
                          [
                            0.3333333333333333,
                            "#9c179e"
                          ],
                          [
                            0.4444444444444444,
                            "#bd3786"
                          ],
                          [
                            0.5555555555555556,
                            "#d8576b"
                          ],
                          [
                            0.6666666666666666,
                            "#ed7953"
                          ],
                          [
                            0.7777777777777778,
                            "#fb9f3a"
                          ],
                          [
                            0.8888888888888888,
                            "#fdca26"
                          ],
                          [
                            1,
                            "#f0f921"
                          ]
                        ],
                        "type": "surface"
                      }
                    ],
                    "table": [
                      {
                        "cells": {
                          "fill": {
                            "color": "#EBF0F8"
                          },
                          "line": {
                            "color": "white"
                          }
                        },
                        "header": {
                          "fill": {
                            "color": "#C8D4E3"
                          },
                          "line": {
                            "color": "white"
                          }
                        },
                        "type": "table"
                      }
                    ]
                  },
                  "layout": {
                    "annotationdefaults": {
                      "arrowcolor": "#2a3f5f",
                      "arrowhead": 0,
                      "arrowwidth": 1
                    },
                    "autotypenumbers": "strict",
                    "coloraxis": {
                      "colorbar": {
                        "outlinewidth": 0,
                        "ticks": ""
                      }
                    },
                    "colorscale": {
                      "diverging": [
                        [
                          0,
                          "#8e0152"
                        ],
                        [
                          0.1,
                          "#c51b7d"
                        ],
                        [
                          0.2,
                          "#de77ae"
                        ],
                        [
                          0.3,
                          "#f1b6da"
                        ],
                        [
                          0.4,
                          "#fde0ef"
                        ],
                        [
                          0.5,
                          "#f7f7f7"
                        ],
                        [
                          0.6,
                          "#e6f5d0"
                        ],
                        [
                          0.7,
                          "#b8e186"
                        ],
                        [
                          0.8,
                          "#7fbc41"
                        ],
                        [
                          0.9,
                          "#4d9221"
                        ],
                        [
                          1,
                          "#276419"
                        ]
                      ],
                      "sequential": [
                        [
                          0,
                          "#0d0887"
                        ],
                        [
                          0.1111111111111111,
                          "#46039f"
                        ],
                        [
                          0.2222222222222222,
                          "#7201a8"
                        ],
                        [
                          0.3333333333333333,
                          "#9c179e"
                        ],
                        [
                          0.4444444444444444,
                          "#bd3786"
                        ],
                        [
                          0.5555555555555556,
                          "#d8576b"
                        ],
                        [
                          0.6666666666666666,
                          "#ed7953"
                        ],
                        [
                          0.7777777777777778,
                          "#fb9f3a"
                        ],
                        [
                          0.8888888888888888,
                          "#fdca26"
                        ],
                        [
                          1,
                          "#f0f921"
                        ]
                      ],
                      "sequentialminus": [
                        [
                          0,
                          "#0d0887"
                        ],
                        [
                          0.1111111111111111,
                          "#46039f"
                        ],
                        [
                          0.2222222222222222,
                          "#7201a8"
                        ],
                        [
                          0.3333333333333333,
                          "#9c179e"
                        ],
                        [
                          0.4444444444444444,
                          "#bd3786"
                        ],
                        [
                          0.5555555555555556,
                          "#d8576b"
                        ],
                        [
                          0.6666666666666666,
                          "#ed7953"
                        ],
                        [
                          0.7777777777777778,
                          "#fb9f3a"
                        ],
                        [
                          0.8888888888888888,
                          "#fdca26"
                        ],
                        [
                          1,
                          "#f0f921"
                        ]
                      ]
                    },
                    "colorway": [
                      "#636efa",
                      "#EF553B",
                      "#00cc96",
                      "#ab63fa",
                      "#FFA15A",
                      "#19d3f3",
                      "#FF6692",
                      "#B6E880",
                      "#FF97FF",
                      "#FECB52"
                    ],
                    "font": {
                      "color": "#2a3f5f"
                    },
                    "geo": {
                      "bgcolor": "white",
                      "lakecolor": "white",
                      "landcolor": "white",
                      "showlakes": true,
                      "showland": true,
                      "subunitcolor": "#C8D4E3"
                    },
                    "hoverlabel": {
                      "align": "left"
                    },
                    "hovermode": "closest",
                    "mapbox": {
                      "style": "light"
                    },
                    "paper_bgcolor": "white",
                    "plot_bgcolor": "white",
                    "polar": {
                      "angularaxis": {
                        "gridcolor": "#EBF0F8",
                        "linecolor": "#EBF0F8",
                        "ticks": ""
                      },
                      "bgcolor": "white",
                      "radialaxis": {
                        "gridcolor": "#EBF0F8",
                        "linecolor": "#EBF0F8",
                        "ticks": ""
                      }
                    },
                    "scene": {
                      "xaxis": {
                        "backgroundcolor": "white",
                        "gridcolor": "#DFE8F3",
                        "gridwidth": 2,
                        "linecolor": "#EBF0F8",
                        "showbackground": true,
                        "ticks": "",
                        "zerolinecolor": "#EBF0F8"
                      },
                      "yaxis": {
                        "backgroundcolor": "white",
                        "gridcolor": "#DFE8F3",
                        "gridwidth": 2,
                        "linecolor": "#EBF0F8",
                        "showbackground": true,
                        "ticks": "",
                        "zerolinecolor": "#EBF0F8"
                      },
                      "zaxis": {
                        "backgroundcolor": "white",
                        "gridcolor": "#DFE8F3",
                        "gridwidth": 2,
                        "linecolor": "#EBF0F8",
                        "showbackground": true,
                        "ticks": "",
                        "zerolinecolor": "#EBF0F8"
                      }
                    },
                    "shapedefaults": {
                      "line": {
                        "color": "#2a3f5f"
                      }
                    },
                    "ternary": {
                      "aaxis": {
                        "gridcolor": "#DFE8F3",
                        "linecolor": "#A2B1C6",
                        "ticks": ""
                      },
                      "baxis": {
                        "gridcolor": "#DFE8F3",
                        "linecolor": "#A2B1C6",
                        "ticks": ""
                      },
                      "bgcolor": "white",
                      "caxis": {
                        "gridcolor": "#DFE8F3",
                        "linecolor": "#A2B1C6",
                        "ticks": ""
                      }
                    },
                    "title": {
                      "x": 0.05
                    },
                    "xaxis": {
                      "automargin": true,
                      "gridcolor": "#EBF0F8",
                      "linecolor": "#EBF0F8",
                      "ticks": "",
                      "title": {
                        "standoff": 15
                      },
                      "zerolinecolor": "#EBF0F8",
                      "zerolinewidth": 2
                    },
                    "yaxis": {
                      "automargin": true,
                      "gridcolor": "#EBF0F8",
                      "linecolor": "#EBF0F8",
                      "ticks": "",
                      "title": {
                        "standoff": 15
                      },
                      "zerolinecolor": "#EBF0F8",
                      "zerolinewidth": 2
                    }
                  }
                },
                "title": {
                  "text": "Distribución de Edades por Urgencia - Bogotá"
                },
                "xaxis": {
                  "anchor": "y",
                  "domain": [
                    0,
                    1
                  ],
                  "title": {
                    "text": "Edad"
                  }
                },
                "xaxis2": {
                  "anchor": "y2",
                  "domain": [
                    0,
                    1
                  ],
                  "matches": "x",
                  "showgrid": true,
                  "showticklabels": false
                },
                "yaxis": {
                  "anchor": "x",
                  "domain": [
                    0,
                    0.7326
                  ],
                  "title": {
                    "text": "count"
                  }
                },
                "yaxis2": {
                  "anchor": "x2",
                  "domain": [
                    0.7426,
                    1
                  ],
                  "matches": "y2",
                  "showgrid": false,
                  "showline": false,
                  "showticklabels": false,
                  "ticks": ""
                }
              }
            }
          },
          "metadata": {},
          "output_type": "display_data"
        },
        {
          "data": {
            "application/vnd.plotly.v1+json": {
              "config": {
                "plotlyServerURL": "https://plot.ly"
              },
              "data": [
                {
                  "hovertemplate": "Vulnerabilidad_Total=%{marker.color}<br>Ciudad=%{y}<extra></extra>",
                  "legendgroup": "",
                  "marker": {
                    "color": {
                      "bdata": "8BnD0YIEEEBD0x3st9oOQBKICzUngQ5ATGcxncV0DkAJvP2QwNsNQNLw+qiNhA1A55xzzjnnDEAHRp1p3MAMQDaQk8yV8gtAHYGirQbPC0A=",
                      "dtype": "f8"
                    },
                    "coloraxis": "coloraxis",
                    "pattern": {
                      "shape": ""
                    }
                  },
                  "name": "",
                  "orientation": "h",
                  "showlegend": false,
                  "text": {
                    "bdata": "8BnD0YIEEEBD0x3st9oOQBKICzUngQ5ATGcxncV0DkAJvP2QwNsNQNLw+qiNhA1A55xzzjnnDEAHRp1p3MAMQDaQk8yV8gtAHYGirQbPC0A=",
                    "dtype": "f8"
                  },
                  "textposition": "outside",
                  "texttemplate": "%{text:.2f}",
                  "type": "bar",
                  "x": {
                    "bdata": "8BnD0YIEEEBD0x3st9oOQBKICzUngQ5ATGcxncV0DkAJvP2QwNsNQNLw+qiNhA1A55xzzjnnDEAHRp1p3MAMQDaQk8yV8gtAHYGirQbPC0A=",
                    "dtype": "f8"
                  },
                  "xaxis": "x",
                  "y": [
                    "Cúcuta",
                    "Barranquilla",
                    "Manizales",
                    "Pereira",
                    "Medellín",
                    "Bogotá",
                    "Santa Marta",
                    "Cartagena",
                    "Cali",
                    "Bucaramanga"
                  ],
                  "yaxis": "y"
                }
              ],
              "layout": {
                "barmode": "relative",
                "coloraxis": {
                  "colorbar": {
                    "title": {
                      "text": "Vulnerabilidad_Total"
                    }
                  },
                  "colorscale": [
                    [
                      0,
                      "#0d0887"
                    ],
                    [
                      0.1111111111111111,
                      "#46039f"
                    ],
                    [
                      0.2222222222222222,
                      "#7201a8"
                    ],
                    [
                      0.3333333333333333,
                      "#9c179e"
                    ],
                    [
                      0.4444444444444444,
                      "#bd3786"
                    ],
                    [
                      0.5555555555555556,
                      "#d8576b"
                    ],
                    [
                      0.6666666666666666,
                      "#ed7953"
                    ],
                    [
                      0.7777777777777778,
                      "#fb9f3a"
                    ],
                    [
                      0.8888888888888888,
                      "#fdca26"
                    ],
                    [
                      1,
                      "#f0f921"
                    ]
                  ]
                },
                "legend": {
                  "tracegroupgap": 0
                },
                "template": {
                  "data": {
                    "bar": [
                      {
                        "error_x": {
                          "color": "#2a3f5f"
                        },
                        "error_y": {
                          "color": "#2a3f5f"
                        },
                        "marker": {
                          "line": {
                            "color": "white",
                            "width": 0.5
                          },
                          "pattern": {
                            "fillmode": "overlay",
                            "size": 10,
                            "solidity": 0.2
                          }
                        },
                        "type": "bar"
                      }
                    ],
                    "barpolar": [
                      {
                        "marker": {
                          "line": {
                            "color": "white",
                            "width": 0.5
                          },
                          "pattern": {
                            "fillmode": "overlay",
                            "size": 10,
                            "solidity": 0.2
                          }
                        },
                        "type": "barpolar"
                      }
                    ],
                    "carpet": [
                      {
                        "aaxis": {
                          "endlinecolor": "#2a3f5f",
                          "gridcolor": "#C8D4E3",
                          "linecolor": "#C8D4E3",
                          "minorgridcolor": "#C8D4E3",
                          "startlinecolor": "#2a3f5f"
                        },
                        "baxis": {
                          "endlinecolor": "#2a3f5f",
                          "gridcolor": "#C8D4E3",
                          "linecolor": "#C8D4E3",
                          "minorgridcolor": "#C8D4E3",
                          "startlinecolor": "#2a3f5f"
                        },
                        "type": "carpet"
                      }
                    ],
                    "choropleth": [
                      {
                        "colorbar": {
                          "outlinewidth": 0,
                          "ticks": ""
                        },
                        "type": "choropleth"
                      }
                    ],
                    "contour": [
                      {
                        "colorbar": {
                          "outlinewidth": 0,
                          "ticks": ""
                        },
                        "colorscale": [
                          [
                            0,
                            "#0d0887"
                          ],
                          [
                            0.1111111111111111,
                            "#46039f"
                          ],
                          [
                            0.2222222222222222,
                            "#7201a8"
                          ],
                          [
                            0.3333333333333333,
                            "#9c179e"
                          ],
                          [
                            0.4444444444444444,
                            "#bd3786"
                          ],
                          [
                            0.5555555555555556,
                            "#d8576b"
                          ],
                          [
                            0.6666666666666666,
                            "#ed7953"
                          ],
                          [
                            0.7777777777777778,
                            "#fb9f3a"
                          ],
                          [
                            0.8888888888888888,
                            "#fdca26"
                          ],
                          [
                            1,
                            "#f0f921"
                          ]
                        ],
                        "type": "contour"
                      }
                    ],
                    "contourcarpet": [
                      {
                        "colorbar": {
                          "outlinewidth": 0,
                          "ticks": ""
                        },
                        "type": "contourcarpet"
                      }
                    ],
                    "heatmap": [
                      {
                        "colorbar": {
                          "outlinewidth": 0,
                          "ticks": ""
                        },
                        "colorscale": [
                          [
                            0,
                            "#0d0887"
                          ],
                          [
                            0.1111111111111111,
                            "#46039f"
                          ],
                          [
                            0.2222222222222222,
                            "#7201a8"
                          ],
                          [
                            0.3333333333333333,
                            "#9c179e"
                          ],
                          [
                            0.4444444444444444,
                            "#bd3786"
                          ],
                          [
                            0.5555555555555556,
                            "#d8576b"
                          ],
                          [
                            0.6666666666666666,
                            "#ed7953"
                          ],
                          [
                            0.7777777777777778,
                            "#fb9f3a"
                          ],
                          [
                            0.8888888888888888,
                            "#fdca26"
                          ],
                          [
                            1,
                            "#f0f921"
                          ]
                        ],
                        "type": "heatmap"
                      }
                    ],
                    "histogram": [
                      {
                        "marker": {
                          "pattern": {
                            "fillmode": "overlay",
                            "size": 10,
                            "solidity": 0.2
                          }
                        },
                        "type": "histogram"
                      }
                    ],
                    "histogram2d": [
                      {
                        "colorbar": {
                          "outlinewidth": 0,
                          "ticks": ""
                        },
                        "colorscale": [
                          [
                            0,
                            "#0d0887"
                          ],
                          [
                            0.1111111111111111,
                            "#46039f"
                          ],
                          [
                            0.2222222222222222,
                            "#7201a8"
                          ],
                          [
                            0.3333333333333333,
                            "#9c179e"
                          ],
                          [
                            0.4444444444444444,
                            "#bd3786"
                          ],
                          [
                            0.5555555555555556,
                            "#d8576b"
                          ],
                          [
                            0.6666666666666666,
                            "#ed7953"
                          ],
                          [
                            0.7777777777777778,
                            "#fb9f3a"
                          ],
                          [
                            0.8888888888888888,
                            "#fdca26"
                          ],
                          [
                            1,
                            "#f0f921"
                          ]
                        ],
                        "type": "histogram2d"
                      }
                    ],
                    "histogram2dcontour": [
                      {
                        "colorbar": {
                          "outlinewidth": 0,
                          "ticks": ""
                        },
                        "colorscale": [
                          [
                            0,
                            "#0d0887"
                          ],
                          [
                            0.1111111111111111,
                            "#46039f"
                          ],
                          [
                            0.2222222222222222,
                            "#7201a8"
                          ],
                          [
                            0.3333333333333333,
                            "#9c179e"
                          ],
                          [
                            0.4444444444444444,
                            "#bd3786"
                          ],
                          [
                            0.5555555555555556,
                            "#d8576b"
                          ],
                          [
                            0.6666666666666666,
                            "#ed7953"
                          ],
                          [
                            0.7777777777777778,
                            "#fb9f3a"
                          ],
                          [
                            0.8888888888888888,
                            "#fdca26"
                          ],
                          [
                            1,
                            "#f0f921"
                          ]
                        ],
                        "type": "histogram2dcontour"
                      }
                    ],
                    "mesh3d": [
                      {
                        "colorbar": {
                          "outlinewidth": 0,
                          "ticks": ""
                        },
                        "type": "mesh3d"
                      }
                    ],
                    "parcoords": [
                      {
                        "line": {
                          "colorbar": {
                            "outlinewidth": 0,
                            "ticks": ""
                          }
                        },
                        "type": "parcoords"
                      }
                    ],
                    "pie": [
                      {
                        "automargin": true,
                        "type": "pie"
                      }
                    ],
                    "scatter": [
                      {
                        "fillpattern": {
                          "fillmode": "overlay",
                          "size": 10,
                          "solidity": 0.2
                        },
                        "type": "scatter"
                      }
                    ],
                    "scatter3d": [
                      {
                        "line": {
                          "colorbar": {
                            "outlinewidth": 0,
                            "ticks": ""
                          }
                        },
                        "marker": {
                          "colorbar": {
                            "outlinewidth": 0,
                            "ticks": ""
                          }
                        },
                        "type": "scatter3d"
                      }
                    ],
                    "scattercarpet": [
                      {
                        "marker": {
                          "colorbar": {
                            "outlinewidth": 0,
                            "ticks": ""
                          }
                        },
                        "type": "scattercarpet"
                      }
                    ],
                    "scattergeo": [
                      {
                        "marker": {
                          "colorbar": {
                            "outlinewidth": 0,
                            "ticks": ""
                          }
                        },
                        "type": "scattergeo"
                      }
                    ],
                    "scattergl": [
                      {
                        "marker": {
                          "colorbar": {
                            "outlinewidth": 0,
                            "ticks": ""
                          }
                        },
                        "type": "scattergl"
                      }
                    ],
                    "scattermap": [
                      {
                        "marker": {
                          "colorbar": {
                            "outlinewidth": 0,
                            "ticks": ""
                          }
                        },
                        "type": "scattermap"
                      }
                    ],
                    "scattermapbox": [
                      {
                        "marker": {
                          "colorbar": {
                            "outlinewidth": 0,
                            "ticks": ""
                          }
                        },
                        "type": "scattermapbox"
                      }
                    ],
                    "scatterpolar": [
                      {
                        "marker": {
                          "colorbar": {
                            "outlinewidth": 0,
                            "ticks": ""
                          }
                        },
                        "type": "scatterpolar"
                      }
                    ],
                    "scatterpolargl": [
                      {
                        "marker": {
                          "colorbar": {
                            "outlinewidth": 0,
                            "ticks": ""
                          }
                        },
                        "type": "scatterpolargl"
                      }
                    ],
                    "scatterternary": [
                      {
                        "marker": {
                          "colorbar": {
                            "outlinewidth": 0,
                            "ticks": ""
                          }
                        },
                        "type": "scatterternary"
                      }
                    ],
                    "surface": [
                      {
                        "colorbar": {
                          "outlinewidth": 0,
                          "ticks": ""
                        },
                        "colorscale": [
                          [
                            0,
                            "#0d0887"
                          ],
                          [
                            0.1111111111111111,
                            "#46039f"
                          ],
                          [
                            0.2222222222222222,
                            "#7201a8"
                          ],
                          [
                            0.3333333333333333,
                            "#9c179e"
                          ],
                          [
                            0.4444444444444444,
                            "#bd3786"
                          ],
                          [
                            0.5555555555555556,
                            "#d8576b"
                          ],
                          [
                            0.6666666666666666,
                            "#ed7953"
                          ],
                          [
                            0.7777777777777778,
                            "#fb9f3a"
                          ],
                          [
                            0.8888888888888888,
                            "#fdca26"
                          ],
                          [
                            1,
                            "#f0f921"
                          ]
                        ],
                        "type": "surface"
                      }
                    ],
                    "table": [
                      {
                        "cells": {
                          "fill": {
                            "color": "#EBF0F8"
                          },
                          "line": {
                            "color": "white"
                          }
                        },
                        "header": {
                          "fill": {
                            "color": "#C8D4E3"
                          },
                          "line": {
                            "color": "white"
                          }
                        },
                        "type": "table"
                      }
                    ]
                  },
                  "layout": {
                    "annotationdefaults": {
                      "arrowcolor": "#2a3f5f",
                      "arrowhead": 0,
                      "arrowwidth": 1
                    },
                    "autotypenumbers": "strict",
                    "coloraxis": {
                      "colorbar": {
                        "outlinewidth": 0,
                        "ticks": ""
                      }
                    },
                    "colorscale": {
                      "diverging": [
                        [
                          0,
                          "#8e0152"
                        ],
                        [
                          0.1,
                          "#c51b7d"
                        ],
                        [
                          0.2,
                          "#de77ae"
                        ],
                        [
                          0.3,
                          "#f1b6da"
                        ],
                        [
                          0.4,
                          "#fde0ef"
                        ],
                        [
                          0.5,
                          "#f7f7f7"
                        ],
                        [
                          0.6,
                          "#e6f5d0"
                        ],
                        [
                          0.7,
                          "#b8e186"
                        ],
                        [
                          0.8,
                          "#7fbc41"
                        ],
                        [
                          0.9,
                          "#4d9221"
                        ],
                        [
                          1,
                          "#276419"
                        ]
                      ],
                      "sequential": [
                        [
                          0,
                          "#0d0887"
                        ],
                        [
                          0.1111111111111111,
                          "#46039f"
                        ],
                        [
                          0.2222222222222222,
                          "#7201a8"
                        ],
                        [
                          0.3333333333333333,
                          "#9c179e"
                        ],
                        [
                          0.4444444444444444,
                          "#bd3786"
                        ],
                        [
                          0.5555555555555556,
                          "#d8576b"
                        ],
                        [
                          0.6666666666666666,
                          "#ed7953"
                        ],
                        [
                          0.7777777777777778,
                          "#fb9f3a"
                        ],
                        [
                          0.8888888888888888,
                          "#fdca26"
                        ],
                        [
                          1,
                          "#f0f921"
                        ]
                      ],
                      "sequentialminus": [
                        [
                          0,
                          "#0d0887"
                        ],
                        [
                          0.1111111111111111,
                          "#46039f"
                        ],
                        [
                          0.2222222222222222,
                          "#7201a8"
                        ],
                        [
                          0.3333333333333333,
                          "#9c179e"
                        ],
                        [
                          0.4444444444444444,
                          "#bd3786"
                        ],
                        [
                          0.5555555555555556,
                          "#d8576b"
                        ],
                        [
                          0.6666666666666666,
                          "#ed7953"
                        ],
                        [
                          0.7777777777777778,
                          "#fb9f3a"
                        ],
                        [
                          0.8888888888888888,
                          "#fdca26"
                        ],
                        [
                          1,
                          "#f0f921"
                        ]
                      ]
                    },
                    "colorway": [
                      "#636efa",
                      "#EF553B",
                      "#00cc96",
                      "#ab63fa",
                      "#FFA15A",
                      "#19d3f3",
                      "#FF6692",
                      "#B6E880",
                      "#FF97FF",
                      "#FECB52"
                    ],
                    "font": {
                      "color": "#2a3f5f"
                    },
                    "geo": {
                      "bgcolor": "white",
                      "lakecolor": "white",
                      "landcolor": "white",
                      "showlakes": true,
                      "showland": true,
                      "subunitcolor": "#C8D4E3"
                    },
                    "hoverlabel": {
                      "align": "left"
                    },
                    "hovermode": "closest",
                    "mapbox": {
                      "style": "light"
                    },
                    "paper_bgcolor": "white",
                    "plot_bgcolor": "white",
                    "polar": {
                      "angularaxis": {
                        "gridcolor": "#EBF0F8",
                        "linecolor": "#EBF0F8",
                        "ticks": ""
                      },
                      "bgcolor": "white",
                      "radialaxis": {
                        "gridcolor": "#EBF0F8",
                        "linecolor": "#EBF0F8",
                        "ticks": ""
                      }
                    },
                    "scene": {
                      "xaxis": {
                        "backgroundcolor": "white",
                        "gridcolor": "#DFE8F3",
                        "gridwidth": 2,
                        "linecolor": "#EBF0F8",
                        "showbackground": true,
                        "ticks": "",
                        "zerolinecolor": "#EBF0F8"
                      },
                      "yaxis": {
                        "backgroundcolor": "white",
                        "gridcolor": "#DFE8F3",
                        "gridwidth": 2,
                        "linecolor": "#EBF0F8",
                        "showbackground": true,
                        "ticks": "",
                        "zerolinecolor": "#EBF0F8"
                      },
                      "zaxis": {
                        "backgroundcolor": "white",
                        "gridcolor": "#DFE8F3",
                        "gridwidth": 2,
                        "linecolor": "#EBF0F8",
                        "showbackground": true,
                        "ticks": "",
                        "zerolinecolor": "#EBF0F8"
                      }
                    },
                    "shapedefaults": {
                      "line": {
                        "color": "#2a3f5f"
                      }
                    },
                    "ternary": {
                      "aaxis": {
                        "gridcolor": "#DFE8F3",
                        "linecolor": "#A2B1C6",
                        "ticks": ""
                      },
                      "baxis": {
                        "gridcolor": "#DFE8F3",
                        "linecolor": "#A2B1C6",
                        "ticks": ""
                      },
                      "bgcolor": "white",
                      "caxis": {
                        "gridcolor": "#DFE8F3",
                        "linecolor": "#A2B1C6",
                        "ticks": ""
                      }
                    },
                    "title": {
                      "x": 0.05
                    },
                    "xaxis": {
                      "automargin": true,
                      "gridcolor": "#EBF0F8",
                      "linecolor": "#EBF0F8",
                      "ticks": "",
                      "title": {
                        "standoff": 15
                      },
                      "zerolinecolor": "#EBF0F8",
                      "zerolinewidth": 2
                    },
                    "yaxis": {
                      "automargin": true,
                      "gridcolor": "#EBF0F8",
                      "linecolor": "#EBF0F8",
                      "ticks": "",
                      "title": {
                        "standoff": 15
                      },
                      "zerolinecolor": "#EBF0F8",
                      "zerolinewidth": 2
                    }
                  }
                },
                "title": {
                  "text": "Promedio de Vulnerabilidad Total por Ciudad"
                },
                "xaxis": {
                  "anchor": "y",
                  "domain": [
                    0,
                    1
                  ],
                  "title": {
                    "text": "Vulnerabilidad_Total"
                  }
                },
                "yaxis": {
                  "anchor": "x",
                  "domain": [
                    0,
                    1
                  ],
                  "title": {
                    "text": "Ciudad"
                  }
                }
              }
            }
          },
          "metadata": {},
          "output_type": "display_data"
        },
        {
          "data": {
            "application/vnd.plotly.v1+json": {
              "config": {
                "plotlyServerURL": "https://plot.ly"
              },
              "data": [
                {
                  "customdata": {
                    "bdata": "AAAAAAAAAAABAAAAAAAAAAEAAAABAAAAAAAAAAAAAAAAAAAAAQAAAAEAAAABAAAAAQAAAAEAAAABAAAAAQAAAAAAAAAAAAAAAAAAAAAAAAAAAAAAAQAAAAEAAAABAAAAAAAAAAEAAAABAAAAAAAAAAAAAAAAAAAAAAAAAAEAAAABAAAAAAAAAAEAAAABAAAAAAAAAAEAAAAAAAAAAAAAAAEAAAAAAAAAAQAAAAEAAAAAAAAAAAAAAAAAAAABAAAAAAAAAAEAAAABAAAAAQAAAAAAAAABAAAAAQAAAAEAAAAAAAAAAAAAAAEAAAABAAAAAAAAAAAAAAABAAAAAAAAAAAAAAABAAAAAAAAAAEAAAABAAAAAQAAAAEAAAAAAAAAAAAAAAEAAAABAAAAAAAAAAAAAAABAAAAAQAAAAAAAAABAAAAAQAAAAEAAAABAAAAAQAAAAEAAAABAAAAAAAAAAEAAAAAAAAAAQAAAAEAAAABAAAAAAAAAAAAAAABAAAAAAAAAAEAAAABAAAAAAAAAAEAAAABAAAAAQAAAAEAAAABAAAAAQAAAAAAAAABAAAAAQAAAAAAAAABAAAAAAAAAAAAAAABAAAAAQAAAAEAAAAAAAAAAQAAAAEAAAAAAAAAAQAAAAEAAAAAAAAAAQAAAA==",
                    "dtype": "i4",
                    "shape": "62, 2"
                  },
                  "hovertemplate": "Nivel de urgencia=no urgente<br>Zona rural=0<br>Edad=%{x}<br>Vulnerabilidad_Total=%{y}<br>Acceso a internet=%{customdata[0]}<br>Atención previa del gobierno=%{customdata[1]}<extra></extra>",
                  "legendgroup": "no urgente, 0",
                  "marker": {
                    "color": "#636efa",
                    "symbol": "circle"
                  },
                  "mode": "markers",
                  "name": "no urgente, 0",
                  "orientation": "v",
                  "showlegend": true,
                  "type": "scatter",
                  "x": {
                    "bdata": "AAAAAAAAM0AAAAAAAIBJQAAAAAAAgEVAAAAAAAAAREAAAAAAAAAxQAAAAAAAAFBAAAAAAACAS0AAAAAAAABMQAAAAAAAAD5AAAAAAAAARkAAAAAAAABPQAAAAAAAADRAAAAAAACARUAAAAAAAEBRQAAAAAAAADVAAAAAAAAAPEAAAAAAAIBOQAAAAAAAADhAAAAAAACARUAAAAAAAAAxQAAAAAAAgEBAAAAAAAAASEAAAAAAAIBAQAAAAAAAgE1AAAAAAAAASEAAAAAAAMBQQAAAAAAAgERAAAAAAAAAR0AAAAAAAAA7QAAAAAAAgERAAAAAAAAAUkAAAAAAAIBJQAAAAAAAADhAAAAAAACAQkAAAAAAAIBIQAAAAAAAADNAAAAAAACAQ0AAAAAAAAA7QAAAAAAAAEdAAAAAAACATEAAAAAAAIBOQAAAAAAAAEFAAAAAAAAAP0AAAAAAAIBIQAAAAAAAADJAAAAAAACAS0AAAAAAAABUQAAAAAAAwFNAAAAAAADAUEAAAAAAAABQQAAAAAAAAEdAAAAAAACASEAAAAAAAABJQAAAAAAAAFFAAAAAAACARUAAAAAAAIBTQAAAAAAAAFJAAAAAAADAUEAAAAAAAAA8QAAAAAAAAFFAAAAAAAAANkAAAAAAAAAyQA==",
                    "dtype": "f8"
                  },
                  "xaxis": "x",
                  "y": {
                    "bdata": "AAAAAAAAEkAAAAAAAAAEQAAAAAAAAAAAAAAAAAAAEkAAAAAAAAAAQAAAAAAAAAAAAAAAAAAAAAAAAAAAAAAAAAAAAAAAABJAAAAAAAAAEkAAAAAAAAAAQAAAAAAAAAAAAAAAAAAAAEAAAAAAAAAEQAAAAAAAABJAAAAAAAAAAEAAAAAAAAAEQAAAAAAAAAAAAAAAAAAAAEAAAAAAAAASQAAAAAAAAARAAAAAAAAAAAAAAAAAAAASQAAAAAAAAABAAAAAAAAAAEAAAAAAAAAAAAAAAAAAAABAAAAAAAAAAAAAAAAAAAASQAAAAAAAAAAAAAAAAAAAEkAAAAAAAAAEQAAAAAAAAABAAAAAAAAAAEAAAAAAAAAAAAAAAAAAAARAAAAAAAAAAEAAAAAAAAAEQAAAAAAAAABAAAAAAAAABEAAAAAAAAAAAAAAAAAAAAAAAAAAAAAAAAAAAAAAAAAEQAAAAAAAAARAAAAAAAAAAAAAAAAAAAAEQAAAAAAAAABAAAAAAAAAAEAAAAAAAAAEQAAAAAAAAAAAAAAAAAAAAAAAAAAAAAAAAAAAAAAAAABAAAAAAAAABEAAAAAAAAAEQAAAAAAAAABAAAAAAAAAAAAAAAAAAAAAQAAAAAAAAARAAAAAAAAAAAAAAAAAAAAAQA==",
                    "dtype": "f8"
                  },
                  "yaxis": "y"
                },
                {
                  "customdata": {
                    "bdata": "AAAAAAEAAAAAAAAAAAAAAAAAAAABAAAAAAAAAAEAAAABAAAAAQAAAAEAAAAAAAAAAQAAAAEAAAAAAAAAAAAAAAEAAAAAAAAAAQAAAAAAAAABAAAAAQAAAAAAAAABAAAAAQAAAAAAAAABAAAAAAAAAAAAAAABAAAAAQAAAAEAAAABAAAAAQAAAAEAAAAAAAAAAAAAAAEAAAAAAAAAAAAAAAAAAAABAAAAAQAAAAEAAAAAAAAAAQAAAAEAAAABAAAAAAAAAAAAAAABAAAAAAAAAAAAAAAAAAAAAAAAAAAAAAAAAAAAAQAAAAEAAAAAAAAAAAAAAAAAAAAAAAAAAAAAAAAAAAABAAAAAQAAAAAAAAAAAAAAAQAAAAEAAAABAAAAAAAAAAEAAAAAAAAAAQAAAAAAAAABAAAAAQAAAAAAAAAAAAAAAAAAAAAAAAAAAAAAAAAAAAAAAAABAAAAAAAAAAAAAAAAAAAAAAAAAAEAAAAAAAAAAAAAAAEAAAABAAAAAQAAAAAAAAABAAAAAAAAAAEAAAAAAAAAAAAAAAEAAAAAAAAAAQAAAAEAAAAAAAAAAAAAAAEAAAABAAAAAAAAAAEAAAABAAAAAAAAAAAAAAAAAAAAAQAAAAAAAAABAAAA",
                    "dtype": "i4",
                    "shape": "60, 2"
                  },
                  "hovertemplate": "Nivel de urgencia=no urgente<br>Zona rural=1<br>Edad=%{x}<br>Vulnerabilidad_Total=%{y}<br>Acceso a internet=%{customdata[0]}<br>Atención previa del gobierno=%{customdata[1]}<extra></extra>",
                  "legendgroup": "no urgente, 1",
                  "marker": {
                    "color": "#636efa",
                    "symbol": "diamond"
                  },
                  "mode": "markers",
                  "name": "no urgente, 1",
                  "orientation": "v",
                  "showlegend": true,
                  "type": "scatter",
                  "x": {
                    "bdata": "AAAAAAAANkAAAAAAAIBBQAAAAAAAQFBAAAAAAAAAOUAAAAAAAABQQAAAAAAAgEFAAAAAAAAAREAAAAAAAIBLQAAAAAAAAENAAAAAAAAANUAAAAAAAIBMQAAAAAAAADpAAAAAAAAANkAAAAAAAAAwQAAAAAAAwFNAAAAAAACAQ0AAAAAAAABEQAAAAAAAgElAAAAAAABAUUAAAAAAAABPQAAAAAAAAEZAAAAAAACATUAAAAAAAABSQAAAAAAAQFNAAAAAAAAAQEAAAAAAAMBQQAAAAAAAgEJAAAAAAAAATEAAAAAAAEBRQAAAAAAAgEFAAAAAAABAU0AAAAAAAEBRQAAAAAAAAExAAAAAAACATUAAAAAAAIBSQAAAAAAAADpAAAAAAAAATUAAAAAAAABNQAAAAAAAADZAAAAAAACAUEAAAAAAAEBRQAAAAAAAADhAAAAAAACARkAAAAAAAABRQAAAAAAAgEVAAAAAAAAAPUAAAAAAAIBNQAAAAAAAADtAAAAAAAAAT0AAAAAAAAA+QAAAAAAAAEpAAAAAAAAATkAAAAAAAEBTQAAAAAAAAEhAAAAAAADAUUAAAAAAAAA8QAAAAAAAgENAAAAAAAAAQUAAAAAAAIBCQAAAAAAAAE5A",
                    "dtype": "f8"
                  },
                  "xaxis": "x",
                  "y": {
                    "bdata": "AAAAAAAAFEAAAAAAAAAeQAAAAAAAABRAAAAAAAAAFEAAAAAAAAAIQAAAAAAAABZAAAAAAAAACEAAAAAAAAAeQAAAAAAAABZAAAAAAAAAFkAAAAAAAAAIQAAAAAAAABRAAAAAAAAAFkAAAAAAAAAWQAAAAAAAABRAAAAAAAAACEAAAAAAAAAIQAAAAAAAABZAAAAAAAAAFEAAAAAAAAAeQAAAAAAAABRAAAAAAAAACEAAAAAAAAAUQAAAAAAAAAhAAAAAAAAAHkAAAAAAAAAWQAAAAAAAAB5AAAAAAAAAHkAAAAAAAAAUQAAAAAAAABZAAAAAAAAAHkAAAAAAAAAeQAAAAAAAABRAAAAAAAAAFkAAAAAAAAAUQAAAAAAAAAhAAAAAAAAAFEAAAAAAAAAUQAAAAAAAABRAAAAAAAAAFkAAAAAAAAAeQAAAAAAAAB5AAAAAAAAAHkAAAAAAAAAWQAAAAAAAAB5AAAAAAAAAFEAAAAAAAAAeQAAAAAAAAAhAAAAAAAAAFkAAAAAAAAAWQAAAAAAAABZAAAAAAAAAFEAAAAAAAAAUQAAAAAAAABZAAAAAAAAAFEAAAAAAAAAWQAAAAAAAAAhAAAAAAAAAHkAAAAAAAAAUQAAAAAAAABRA",
                    "dtype": "f8"
                  },
                  "yaxis": "y"
                },
                {
                  "customdata": {
                    "bdata": "AAAAAAEAAAAAAAAAAQAAAAEAAAAAAAAAAAAAAAEAAAAAAAAAAQAAAAEAAAABAAAAAAAAAAAAAAAAAAAAAAAAAAAAAAAAAAAAAAAAAAAAAAAAAAAAAAAAAAEAAAAAAAAAAQAAAAAAAAABAAAAAAAAAAAAAAAAAAAAAAAAAAEAAAABAAAAAQAAAAAAAAAAAAAAAQAAAAAAAAABAAAAAQAAAAEAAAABAAAAAAAAAAEAAAAAAAAAAAAAAAAAAAAAAAAAAQAAAAAAAAAAAAAAAAAAAAEAAAABAAAAAQAAAAEAAAABAAAAAQAAAAAAAAABAAAAAQAAAAAAAAAAAAAAAQAAAAAAAAABAAAAAAAAAAEAAAAAAAAAAAAAAAEAAAABAAAAAQAAAAAAAAAAAAAAAQAAAAEAAAABAAAAAAAAAAAAAAAAAAAAAQAAAAAAAAAAAAAAAAAAAAEAAAAAAAAAAQAAAAAAAAAAAAAAAAAAAAAAAAAAAAAAAQAAAAEAAAAAAAAAAQAAAAAAAAAAAAAAAAAAAAAAAAAAAAAAAAAAAAEAAAABAAAAAQAAAAEAAAAAAAAAAQAAAAEAAAAAAAAAAAAAAAAAAAABAAAAAAAAAAAAAAABAAAAAQAAAAAAAAAAAAAAAQAAAAEAAAAAAAAAAAAAAA==",
                    "dtype": "i4",
                    "shape": "62, 2"
                  },
                  "hovertemplate": "Nivel de urgencia=urgente<br>Zona rural=0<br>Edad=%{x}<br>Vulnerabilidad_Total=%{y}<br>Acceso a internet=%{customdata[0]}<br>Atención previa del gobierno=%{customdata[1]}<extra></extra>",
                  "legendgroup": "urgente, 0",
                  "marker": {
                    "color": "#EF553B",
                    "symbol": "circle"
                  },
                  "mode": "markers",
                  "name": "urgente, 0",
                  "orientation": "v",
                  "showlegend": true,
                  "type": "scatter",
                  "x": {
                    "bdata": "AAAAAAAAQkAAAAAAAABEQAAAAAAAAC5AAAAAAAAAS0AAAAAAAABPQAAAAAAAgExAAAAAAAAAT0AAAAAAAAA5QAAAAAAAAFJAAAAAAAAAPEAAAAAAAABTQAAAAAAAADZAAAAAAAAAUUAAAAAAAIBPQAAAAAAAgEdAAAAAAACAT0AAAAAAAAA5QAAAAAAAAEhAAAAAAACATkAAAAAAAIBAQAAAAAAAgFFAAAAAAAAAQkAAAAAAAIBTQAAAAAAAADdAAAAAAAAAPUAAAAAAAABUQAAAAAAAgEpAAAAAAAAAPkAAAAAAAIBEQAAAAAAAwFJAAAAAAADAU0AAAAAAAIBLQAAAAAAAgElAAAAAAABAUEAAAAAAAABTQAAAAAAAAEJAAAAAAAAAREAAAAAAAIBNQAAAAAAAgExAAAAAAAAATUAAAAAAAIBHQAAAAAAAAEZAAAAAAAAAU0AAAAAAAIBEQAAAAAAAgEpAAAAAAAAAP0AAAAAAAABSQAAAAAAAAEVAAAAAAACAU0AAAAAAAAA+QAAAAAAAgE5AAAAAAAAAN0AAAAAAAABUQAAAAAAAAEtAAAAAAAAAR0AAAAAAAABDQAAAAAAAgEFAAAAAAACAT0AAAAAAAAA+QAAAAAAAgEdAAAAAAAAAR0AAAAAAAAA1QA==",
                    "dtype": "f8"
                  },
                  "xaxis": "x",
                  "y": {
                    "bdata": "AAAAAAAAAEAAAAAAAAAAQAAAAAAAAARAAAAAAAAAAEAAAAAAAAAAQAAAAAAAAAAAAAAAAAAAEkAAAAAAAAASQAAAAAAAABJAAAAAAAAAEkAAAAAAAAASQAAAAAAAAARAAAAAAAAABEAAAAAAAAAEQAAAAAAAABJAAAAAAAAAAEAAAAAAAAAAAAAAAAAAABJAAAAAAAAABEAAAAAAAAAAAAAAAAAAAAAAAAAAAAAAAEAAAAAAAAASQAAAAAAAABJAAAAAAAAABEAAAAAAAAASQAAAAAAAAAAAAAAAAAAAAAAAAAAAAAAAAAAAAAAAAABAAAAAAAAABEAAAAAAAAAAQAAAAAAAAABAAAAAAAAAAEAAAAAAAAASQAAAAAAAAAAAAAAAAAAABEAAAAAAAAAAQAAAAAAAAAAAAAAAAAAAEkAAAAAAAAAAQAAAAAAAABJAAAAAAAAAAEAAAAAAAAAAQAAAAAAAABJAAAAAAAAAEkAAAAAAAAAAQAAAAAAAAARAAAAAAAAABEAAAAAAAAASQAAAAAAAABJAAAAAAAAAAEAAAAAAAAAAAAAAAAAAAARAAAAAAAAAAAAAAAAAAAASQAAAAAAAAABAAAAAAAAAEkAAAAAAAAAAAAAAAAAAABJAAAAAAAAAAAAAAAAAAAASQA==",
                    "dtype": "f8"
                  },
                  "yaxis": "y"
                },
                {
                  "customdata": {
                    "bdata": "AAAAAAEAAAAAAAAAAAAAAAEAAAAAAAAAAQAAAAEAAAABAAAAAQAAAAAAAAABAAAAAQAAAAEAAAABAAAAAAAAAAAAAAAAAAAAAQAAAAEAAAAAAAAAAQAAAAAAAAAAAAAAAAAAAAAAAAABAAAAAAAAAAEAAAAAAAAAAAAAAAEAAAAAAAAAAAAAAAAAAAABAAAAAAAAAAAAAAAAAAAAAAAAAAAAAAABAAAAAQAAAAEAAAABAAAAAAAAAAEAAAAAAAAAAAAAAAEAAAABAAAAAQAAAAAAAAAAAAAAAQAAAAEAAAABAAAAAQAAAAAAAAAAAAAAAAAAAAAAAAABAAAAAAAAAAEAAAABAAAAAQAAAAAAAAABAAAAAAAAAAEAAAABAAAAAQAAAAEAAAABAAAAAAAAAAAAAAAAAAAAAAAAAAEAAAABAAAAAQAAAAAAAAABAAAAAQAAAAEAAAABAAAAAAAAAAAAAAABAAAAAAAAAAEAAAABAAAAAQAAAAAAAAABAAAAAAAAAAEAAAAAAAAAAQAAAAAAAAABAAAAAQAAAAEAAAAAAAAAAQAAAAEAAAABAAAAAAAAAAEAAAABAAAAAAAAAAAAAAABAAAAAQAAAAAAAAABAAAAAQAAAAEAAAABAAAAAQAAAAEAAAAAAAAAAQAAAAAAAAAAAAAAAAAAAAEAAAABAAAAAAAAAAAAAAABAAAAAQAAAAEAAAABAAAAAQAAAAEAAAAAAAAA",
                    "dtype": "i4",
                    "shape": "69, 2"
                  },
                  "hovertemplate": "Nivel de urgencia=urgente<br>Zona rural=1<br>Edad=%{x}<br>Vulnerabilidad_Total=%{y}<br>Acceso a internet=%{customdata[0]}<br>Atención previa del gobierno=%{customdata[1]}<extra></extra>",
                  "legendgroup": "urgente, 1",
                  "marker": {
                    "color": "#EF553B",
                    "symbol": "diamond"
                  },
                  "mode": "markers",
                  "name": "urgente, 1",
                  "orientation": "v",
                  "showlegend": true,
                  "type": "scatter",
                  "x": {
                    "bdata": "AAAAAAAANUAAAAAAAIBLQAAAAAAAAEBAAAAAAABAUUAAAAAAAIBPQAAAAAAAAFNAAAAAAADAUkAAAAAAAABTQAAAAAAAgEZAAAAAAAAAQEAAAAAAAABMQAAAAAAAgE9AAAAAAACASEAAAAAAAABOQAAAAAAAQFFAAAAAAAAASkAAAAAAAAAzQAAAAAAAgEpAAAAAAAAAUUAAAAAAAABAQAAAAAAAgFNAAAAAAAAALkAAAAAAAIBIQAAAAAAAAFJAAAAAAAAAVEAAAAAAAAA9QAAAAAAAADxAAAAAAABAUkAAAAAAAAA6QAAAAAAAQFFAAAAAAAAANkAAAAAAAABDQAAAAAAAgFBAAAAAAAAANEAAAAAAAIBOQAAAAAAAAE5AAAAAAACAUEAAAAAAAABGQAAAAAAAAElAAAAAAACAQUAAAAAAAIBOQAAAAAAAADlAAAAAAAAARkAAAAAAAABTQAAAAAAAADBAAAAAAAAAN0AAAAAAAMBTQAAAAAAAAE5AAAAAAACAT0AAAAAAAAA/QAAAAAAAgEZAAAAAAAAAUkAAAAAAAAA/QAAAAAAAADRAAAAAAADAU0AAAAAAAEBTQAAAAAAAADlAAAAAAABAUUAAAAAAAIBMQAAAAAAAgFBAAAAAAAAAM0AAAAAAAABEQAAAAAAAAFRAAAAAAAAAR0AAAAAAAIBKQAAAAAAAAE9AAAAAAABAUEAAAAAAAABHQAAAAAAAAE1A",
                    "dtype": "f8"
                  },
                  "xaxis": "x",
                  "y": {
                    "bdata": "AAAAAAAAFEAAAAAAAAAeQAAAAAAAABZAAAAAAAAACEAAAAAAAAAIQAAAAAAAABRAAAAAAAAACEAAAAAAAAAWQAAAAAAAAB5AAAAAAAAACEAAAAAAAAAUQAAAAAAAAB5AAAAAAAAAHkAAAAAAAAAWQAAAAAAAABZAAAAAAAAAFEAAAAAAAAAeQAAAAAAAABRAAAAAAAAAHkAAAAAAAAAeQAAAAAAAABRAAAAAAAAACEAAAAAAAAAWQAAAAAAAABZAAAAAAAAAFEAAAAAAAAAIQAAAAAAAAB5AAAAAAAAACEAAAAAAAAAIQAAAAAAAAB5AAAAAAAAAHkAAAAAAAAAWQAAAAAAAAAhAAAAAAAAAFkAAAAAAAAAWQAAAAAAAAAhAAAAAAAAACEAAAAAAAAAWQAAAAAAAAB5AAAAAAAAAFEAAAAAAAAAIQAAAAAAAABRAAAAAAAAACEAAAAAAAAAWQAAAAAAAABRAAAAAAAAAFEAAAAAAAAAIQAAAAAAAABRAAAAAAAAAFEAAAAAAAAAUQAAAAAAAABRAAAAAAAAACEAAAAAAAAAUQAAAAAAAAAhAAAAAAAAAFEAAAAAAAAAWQAAAAAAAABRAAAAAAAAAFkAAAAAAAAAIQAAAAAAAAAhAAAAAAAAACEAAAAAAAAAUQAAAAAAAAB5AAAAAAAAAFEAAAAAAAAAWQAAAAAAAABRAAAAAAAAACEAAAAAAAAAIQAAAAAAAABZA",
                    "dtype": "f8"
                  },
                  "yaxis": "y"
                }
              ],
              "layout": {
                "legend": {
                  "title": {
                    "text": "Nivel de urgencia, Zona rural"
                  },
                  "tracegroupgap": 0
                },
                "template": {
                  "data": {
                    "bar": [
                      {
                        "error_x": {
                          "color": "#2a3f5f"
                        },
                        "error_y": {
                          "color": "#2a3f5f"
                        },
                        "marker": {
                          "line": {
                            "color": "white",
                            "width": 0.5
                          },
                          "pattern": {
                            "fillmode": "overlay",
                            "size": 10,
                            "solidity": 0.2
                          }
                        },
                        "type": "bar"
                      }
                    ],
                    "barpolar": [
                      {
                        "marker": {
                          "line": {
                            "color": "white",
                            "width": 0.5
                          },
                          "pattern": {
                            "fillmode": "overlay",
                            "size": 10,
                            "solidity": 0.2
                          }
                        },
                        "type": "barpolar"
                      }
                    ],
                    "carpet": [
                      {
                        "aaxis": {
                          "endlinecolor": "#2a3f5f",
                          "gridcolor": "#C8D4E3",
                          "linecolor": "#C8D4E3",
                          "minorgridcolor": "#C8D4E3",
                          "startlinecolor": "#2a3f5f"
                        },
                        "baxis": {
                          "endlinecolor": "#2a3f5f",
                          "gridcolor": "#C8D4E3",
                          "linecolor": "#C8D4E3",
                          "minorgridcolor": "#C8D4E3",
                          "startlinecolor": "#2a3f5f"
                        },
                        "type": "carpet"
                      }
                    ],
                    "choropleth": [
                      {
                        "colorbar": {
                          "outlinewidth": 0,
                          "ticks": ""
                        },
                        "type": "choropleth"
                      }
                    ],
                    "contour": [
                      {
                        "colorbar": {
                          "outlinewidth": 0,
                          "ticks": ""
                        },
                        "colorscale": [
                          [
                            0,
                            "#0d0887"
                          ],
                          [
                            0.1111111111111111,
                            "#46039f"
                          ],
                          [
                            0.2222222222222222,
                            "#7201a8"
                          ],
                          [
                            0.3333333333333333,
                            "#9c179e"
                          ],
                          [
                            0.4444444444444444,
                            "#bd3786"
                          ],
                          [
                            0.5555555555555556,
                            "#d8576b"
                          ],
                          [
                            0.6666666666666666,
                            "#ed7953"
                          ],
                          [
                            0.7777777777777778,
                            "#fb9f3a"
                          ],
                          [
                            0.8888888888888888,
                            "#fdca26"
                          ],
                          [
                            1,
                            "#f0f921"
                          ]
                        ],
                        "type": "contour"
                      }
                    ],
                    "contourcarpet": [
                      {
                        "colorbar": {
                          "outlinewidth": 0,
                          "ticks": ""
                        },
                        "type": "contourcarpet"
                      }
                    ],
                    "heatmap": [
                      {
                        "colorbar": {
                          "outlinewidth": 0,
                          "ticks": ""
                        },
                        "colorscale": [
                          [
                            0,
                            "#0d0887"
                          ],
                          [
                            0.1111111111111111,
                            "#46039f"
                          ],
                          [
                            0.2222222222222222,
                            "#7201a8"
                          ],
                          [
                            0.3333333333333333,
                            "#9c179e"
                          ],
                          [
                            0.4444444444444444,
                            "#bd3786"
                          ],
                          [
                            0.5555555555555556,
                            "#d8576b"
                          ],
                          [
                            0.6666666666666666,
                            "#ed7953"
                          ],
                          [
                            0.7777777777777778,
                            "#fb9f3a"
                          ],
                          [
                            0.8888888888888888,
                            "#fdca26"
                          ],
                          [
                            1,
                            "#f0f921"
                          ]
                        ],
                        "type": "heatmap"
                      }
                    ],
                    "histogram": [
                      {
                        "marker": {
                          "pattern": {
                            "fillmode": "overlay",
                            "size": 10,
                            "solidity": 0.2
                          }
                        },
                        "type": "histogram"
                      }
                    ],
                    "histogram2d": [
                      {
                        "colorbar": {
                          "outlinewidth": 0,
                          "ticks": ""
                        },
                        "colorscale": [
                          [
                            0,
                            "#0d0887"
                          ],
                          [
                            0.1111111111111111,
                            "#46039f"
                          ],
                          [
                            0.2222222222222222,
                            "#7201a8"
                          ],
                          [
                            0.3333333333333333,
                            "#9c179e"
                          ],
                          [
                            0.4444444444444444,
                            "#bd3786"
                          ],
                          [
                            0.5555555555555556,
                            "#d8576b"
                          ],
                          [
                            0.6666666666666666,
                            "#ed7953"
                          ],
                          [
                            0.7777777777777778,
                            "#fb9f3a"
                          ],
                          [
                            0.8888888888888888,
                            "#fdca26"
                          ],
                          [
                            1,
                            "#f0f921"
                          ]
                        ],
                        "type": "histogram2d"
                      }
                    ],
                    "histogram2dcontour": [
                      {
                        "colorbar": {
                          "outlinewidth": 0,
                          "ticks": ""
                        },
                        "colorscale": [
                          [
                            0,
                            "#0d0887"
                          ],
                          [
                            0.1111111111111111,
                            "#46039f"
                          ],
                          [
                            0.2222222222222222,
                            "#7201a8"
                          ],
                          [
                            0.3333333333333333,
                            "#9c179e"
                          ],
                          [
                            0.4444444444444444,
                            "#bd3786"
                          ],
                          [
                            0.5555555555555556,
                            "#d8576b"
                          ],
                          [
                            0.6666666666666666,
                            "#ed7953"
                          ],
                          [
                            0.7777777777777778,
                            "#fb9f3a"
                          ],
                          [
                            0.8888888888888888,
                            "#fdca26"
                          ],
                          [
                            1,
                            "#f0f921"
                          ]
                        ],
                        "type": "histogram2dcontour"
                      }
                    ],
                    "mesh3d": [
                      {
                        "colorbar": {
                          "outlinewidth": 0,
                          "ticks": ""
                        },
                        "type": "mesh3d"
                      }
                    ],
                    "parcoords": [
                      {
                        "line": {
                          "colorbar": {
                            "outlinewidth": 0,
                            "ticks": ""
                          }
                        },
                        "type": "parcoords"
                      }
                    ],
                    "pie": [
                      {
                        "automargin": true,
                        "type": "pie"
                      }
                    ],
                    "scatter": [
                      {
                        "fillpattern": {
                          "fillmode": "overlay",
                          "size": 10,
                          "solidity": 0.2
                        },
                        "type": "scatter"
                      }
                    ],
                    "scatter3d": [
                      {
                        "line": {
                          "colorbar": {
                            "outlinewidth": 0,
                            "ticks": ""
                          }
                        },
                        "marker": {
                          "colorbar": {
                            "outlinewidth": 0,
                            "ticks": ""
                          }
                        },
                        "type": "scatter3d"
                      }
                    ],
                    "scattercarpet": [
                      {
                        "marker": {
                          "colorbar": {
                            "outlinewidth": 0,
                            "ticks": ""
                          }
                        },
                        "type": "scattercarpet"
                      }
                    ],
                    "scattergeo": [
                      {
                        "marker": {
                          "colorbar": {
                            "outlinewidth": 0,
                            "ticks": ""
                          }
                        },
                        "type": "scattergeo"
                      }
                    ],
                    "scattergl": [
                      {
                        "marker": {
                          "colorbar": {
                            "outlinewidth": 0,
                            "ticks": ""
                          }
                        },
                        "type": "scattergl"
                      }
                    ],
                    "scattermap": [
                      {
                        "marker": {
                          "colorbar": {
                            "outlinewidth": 0,
                            "ticks": ""
                          }
                        },
                        "type": "scattermap"
                      }
                    ],
                    "scattermapbox": [
                      {
                        "marker": {
                          "colorbar": {
                            "outlinewidth": 0,
                            "ticks": ""
                          }
                        },
                        "type": "scattermapbox"
                      }
                    ],
                    "scatterpolar": [
                      {
                        "marker": {
                          "colorbar": {
                            "outlinewidth": 0,
                            "ticks": ""
                          }
                        },
                        "type": "scatterpolar"
                      }
                    ],
                    "scatterpolargl": [
                      {
                        "marker": {
                          "colorbar": {
                            "outlinewidth": 0,
                            "ticks": ""
                          }
                        },
                        "type": "scatterpolargl"
                      }
                    ],
                    "scatterternary": [
                      {
                        "marker": {
                          "colorbar": {
                            "outlinewidth": 0,
                            "ticks": ""
                          }
                        },
                        "type": "scatterternary"
                      }
                    ],
                    "surface": [
                      {
                        "colorbar": {
                          "outlinewidth": 0,
                          "ticks": ""
                        },
                        "colorscale": [
                          [
                            0,
                            "#0d0887"
                          ],
                          [
                            0.1111111111111111,
                            "#46039f"
                          ],
                          [
                            0.2222222222222222,
                            "#7201a8"
                          ],
                          [
                            0.3333333333333333,
                            "#9c179e"
                          ],
                          [
                            0.4444444444444444,
                            "#bd3786"
                          ],
                          [
                            0.5555555555555556,
                            "#d8576b"
                          ],
                          [
                            0.6666666666666666,
                            "#ed7953"
                          ],
                          [
                            0.7777777777777778,
                            "#fb9f3a"
                          ],
                          [
                            0.8888888888888888,
                            "#fdca26"
                          ],
                          [
                            1,
                            "#f0f921"
                          ]
                        ],
                        "type": "surface"
                      }
                    ],
                    "table": [
                      {
                        "cells": {
                          "fill": {
                            "color": "#EBF0F8"
                          },
                          "line": {
                            "color": "white"
                          }
                        },
                        "header": {
                          "fill": {
                            "color": "#C8D4E3"
                          },
                          "line": {
                            "color": "white"
                          }
                        },
                        "type": "table"
                      }
                    ]
                  },
                  "layout": {
                    "annotationdefaults": {
                      "arrowcolor": "#2a3f5f",
                      "arrowhead": 0,
                      "arrowwidth": 1
                    },
                    "autotypenumbers": "strict",
                    "coloraxis": {
                      "colorbar": {
                        "outlinewidth": 0,
                        "ticks": ""
                      }
                    },
                    "colorscale": {
                      "diverging": [
                        [
                          0,
                          "#8e0152"
                        ],
                        [
                          0.1,
                          "#c51b7d"
                        ],
                        [
                          0.2,
                          "#de77ae"
                        ],
                        [
                          0.3,
                          "#f1b6da"
                        ],
                        [
                          0.4,
                          "#fde0ef"
                        ],
                        [
                          0.5,
                          "#f7f7f7"
                        ],
                        [
                          0.6,
                          "#e6f5d0"
                        ],
                        [
                          0.7,
                          "#b8e186"
                        ],
                        [
                          0.8,
                          "#7fbc41"
                        ],
                        [
                          0.9,
                          "#4d9221"
                        ],
                        [
                          1,
                          "#276419"
                        ]
                      ],
                      "sequential": [
                        [
                          0,
                          "#0d0887"
                        ],
                        [
                          0.1111111111111111,
                          "#46039f"
                        ],
                        [
                          0.2222222222222222,
                          "#7201a8"
                        ],
                        [
                          0.3333333333333333,
                          "#9c179e"
                        ],
                        [
                          0.4444444444444444,
                          "#bd3786"
                        ],
                        [
                          0.5555555555555556,
                          "#d8576b"
                        ],
                        [
                          0.6666666666666666,
                          "#ed7953"
                        ],
                        [
                          0.7777777777777778,
                          "#fb9f3a"
                        ],
                        [
                          0.8888888888888888,
                          "#fdca26"
                        ],
                        [
                          1,
                          "#f0f921"
                        ]
                      ],
                      "sequentialminus": [
                        [
                          0,
                          "#0d0887"
                        ],
                        [
                          0.1111111111111111,
                          "#46039f"
                        ],
                        [
                          0.2222222222222222,
                          "#7201a8"
                        ],
                        [
                          0.3333333333333333,
                          "#9c179e"
                        ],
                        [
                          0.4444444444444444,
                          "#bd3786"
                        ],
                        [
                          0.5555555555555556,
                          "#d8576b"
                        ],
                        [
                          0.6666666666666666,
                          "#ed7953"
                        ],
                        [
                          0.7777777777777778,
                          "#fb9f3a"
                        ],
                        [
                          0.8888888888888888,
                          "#fdca26"
                        ],
                        [
                          1,
                          "#f0f921"
                        ]
                      ]
                    },
                    "colorway": [
                      "#636efa",
                      "#EF553B",
                      "#00cc96",
                      "#ab63fa",
                      "#FFA15A",
                      "#19d3f3",
                      "#FF6692",
                      "#B6E880",
                      "#FF97FF",
                      "#FECB52"
                    ],
                    "font": {
                      "color": "#2a3f5f"
                    },
                    "geo": {
                      "bgcolor": "white",
                      "lakecolor": "white",
                      "landcolor": "white",
                      "showlakes": true,
                      "showland": true,
                      "subunitcolor": "#C8D4E3"
                    },
                    "hoverlabel": {
                      "align": "left"
                    },
                    "hovermode": "closest",
                    "mapbox": {
                      "style": "light"
                    },
                    "paper_bgcolor": "white",
                    "plot_bgcolor": "white",
                    "polar": {
                      "angularaxis": {
                        "gridcolor": "#EBF0F8",
                        "linecolor": "#EBF0F8",
                        "ticks": ""
                      },
                      "bgcolor": "white",
                      "radialaxis": {
                        "gridcolor": "#EBF0F8",
                        "linecolor": "#EBF0F8",
                        "ticks": ""
                      }
                    },
                    "scene": {
                      "xaxis": {
                        "backgroundcolor": "white",
                        "gridcolor": "#DFE8F3",
                        "gridwidth": 2,
                        "linecolor": "#EBF0F8",
                        "showbackground": true,
                        "ticks": "",
                        "zerolinecolor": "#EBF0F8"
                      },
                      "yaxis": {
                        "backgroundcolor": "white",
                        "gridcolor": "#DFE8F3",
                        "gridwidth": 2,
                        "linecolor": "#EBF0F8",
                        "showbackground": true,
                        "ticks": "",
                        "zerolinecolor": "#EBF0F8"
                      },
                      "zaxis": {
                        "backgroundcolor": "white",
                        "gridcolor": "#DFE8F3",
                        "gridwidth": 2,
                        "linecolor": "#EBF0F8",
                        "showbackground": true,
                        "ticks": "",
                        "zerolinecolor": "#EBF0F8"
                      }
                    },
                    "shapedefaults": {
                      "line": {
                        "color": "#2a3f5f"
                      }
                    },
                    "ternary": {
                      "aaxis": {
                        "gridcolor": "#DFE8F3",
                        "linecolor": "#A2B1C6",
                        "ticks": ""
                      },
                      "baxis": {
                        "gridcolor": "#DFE8F3",
                        "linecolor": "#A2B1C6",
                        "ticks": ""
                      },
                      "bgcolor": "white",
                      "caxis": {
                        "gridcolor": "#DFE8F3",
                        "linecolor": "#A2B1C6",
                        "ticks": ""
                      }
                    },
                    "title": {
                      "x": 0.05
                    },
                    "xaxis": {
                      "automargin": true,
                      "gridcolor": "#EBF0F8",
                      "linecolor": "#EBF0F8",
                      "ticks": "",
                      "title": {
                        "standoff": 15
                      },
                      "zerolinecolor": "#EBF0F8",
                      "zerolinewidth": 2
                    },
                    "yaxis": {
                      "automargin": true,
                      "gridcolor": "#EBF0F8",
                      "linecolor": "#EBF0F8",
                      "ticks": "",
                      "title": {
                        "standoff": 15
                      },
                      "zerolinecolor": "#EBF0F8",
                      "zerolinewidth": 2
                    }
                  }
                },
                "title": {
                  "text": "Edad vs Vulnerabilidad Total - Bogotá"
                },
                "xaxis": {
                  "anchor": "y",
                  "domain": [
                    0,
                    1
                  ],
                  "title": {
                    "text": "Edad"
                  }
                },
                "yaxis": {
                  "anchor": "x",
                  "domain": [
                    0,
                    1
                  ],
                  "title": {
                    "text": "Vulnerabilidad_Total"
                  }
                }
              }
            }
          },
          "metadata": {},
          "output_type": "display_data"
        },
        {
          "data": {
            "application/vnd.plotly.v1+json": {
              "config": {
                "plotlyServerURL": "https://plot.ly"
              },
              "data": [
                {
                  "hovertemplate": "<b>%{hovertext}</b><br><br>Casos=%{marker.color}<br>lat=%{lat}<br>lon=%{lon}<extra></extra>",
                  "hovertext": [
                    "Barranquilla",
                    "Bogotá",
                    "Bucaramanga",
                    "Cali",
                    "Cartagena",
                    "Cúcuta",
                    "Manizales",
                    "Medellín",
                    "Pereira",
                    "Santa Marta"
                  ],
                  "lat": {
                    "bdata": "kzoBTYTtJUDy0k1iENgSQLWmeccpehxAIv32deCcC0DVeOkmMcgkQN6Th4Vakx9AnKIjufxHFECZu5aQD/oYQP2H9NvXQRNA7MA5I0p7JkA=",
                    "dtype": "f8"
                  },
                  "legendgroup": "",
                  "lon": {
                    "bdata": "NKK0N/iyUsCqglFJnYRSwAfOGVHaR1LANV66SQwiU8D0bFZ9rt5SwCo6kst/IFLA1CtlGeLgUsDaG3xhMuVSwE3zjlN07FLA2/l+aryMUsA=",
                    "dtype": "f8"
                  },
                  "marker": {
                    "color": {
                      "bdata": "zgD9AOYA5QDfAOMA3gDiAOQA2QA=",
                      "dtype": "i2"
                    },
                    "coloraxis": "coloraxis",
                    "size": {
                      "bdata": "zgD9AOYA5QDfAOMA3gDiAOQA2QA=",
                      "dtype": "i2"
                    },
                    "sizemode": "area",
                    "sizeref": 0.6325
                  },
                  "mode": "markers",
                  "name": "",
                  "showlegend": false,
                  "subplot": "mapbox",
                  "type": "scattermapbox"
                }
              ],
              "layout": {
                "coloraxis": {
                  "colorbar": {
                    "title": {
                      "text": "Casos"
                    }
                  },
                  "colorscale": [
                    [
                      0,
                      "#440154"
                    ],
                    [
                      0.1111111111111111,
                      "#482878"
                    ],
                    [
                      0.2222222222222222,
                      "#3e4989"
                    ],
                    [
                      0.3333333333333333,
                      "#31688e"
                    ],
                    [
                      0.4444444444444444,
                      "#26828e"
                    ],
                    [
                      0.5555555555555556,
                      "#1f9e89"
                    ],
                    [
                      0.6666666666666666,
                      "#35b779"
                    ],
                    [
                      0.7777777777777778,
                      "#6ece58"
                    ],
                    [
                      0.8888888888888888,
                      "#b5de2b"
                    ],
                    [
                      1,
                      "#fde725"
                    ]
                  ]
                },
                "legend": {
                  "itemsizing": "constant",
                  "tracegroupgap": 0
                },
                "mapbox": {
                  "center": {
                    "lat": 7.190030000000002,
                    "lon": -74.7499
                  },
                  "domain": {
                    "x": [
                      0,
                      1
                    ],
                    "y": [
                      0,
                      1
                    ]
                  },
                  "style": "carto-positron",
                  "zoom": 4.3
                },
                "template": {
                  "data": {
                    "bar": [
                      {
                        "error_x": {
                          "color": "#2a3f5f"
                        },
                        "error_y": {
                          "color": "#2a3f5f"
                        },
                        "marker": {
                          "line": {
                            "color": "#E5ECF6",
                            "width": 0.5
                          },
                          "pattern": {
                            "fillmode": "overlay",
                            "size": 10,
                            "solidity": 0.2
                          }
                        },
                        "type": "bar"
                      }
                    ],
                    "barpolar": [
                      {
                        "marker": {
                          "line": {
                            "color": "#E5ECF6",
                            "width": 0.5
                          },
                          "pattern": {
                            "fillmode": "overlay",
                            "size": 10,
                            "solidity": 0.2
                          }
                        },
                        "type": "barpolar"
                      }
                    ],
                    "carpet": [
                      {
                        "aaxis": {
                          "endlinecolor": "#2a3f5f",
                          "gridcolor": "white",
                          "linecolor": "white",
                          "minorgridcolor": "white",
                          "startlinecolor": "#2a3f5f"
                        },
                        "baxis": {
                          "endlinecolor": "#2a3f5f",
                          "gridcolor": "white",
                          "linecolor": "white",
                          "minorgridcolor": "white",
                          "startlinecolor": "#2a3f5f"
                        },
                        "type": "carpet"
                      }
                    ],
                    "choropleth": [
                      {
                        "colorbar": {
                          "outlinewidth": 0,
                          "ticks": ""
                        },
                        "type": "choropleth"
                      }
                    ],
                    "contour": [
                      {
                        "colorbar": {
                          "outlinewidth": 0,
                          "ticks": ""
                        },
                        "colorscale": [
                          [
                            0,
                            "#0d0887"
                          ],
                          [
                            0.1111111111111111,
                            "#46039f"
                          ],
                          [
                            0.2222222222222222,
                            "#7201a8"
                          ],
                          [
                            0.3333333333333333,
                            "#9c179e"
                          ],
                          [
                            0.4444444444444444,
                            "#bd3786"
                          ],
                          [
                            0.5555555555555556,
                            "#d8576b"
                          ],
                          [
                            0.6666666666666666,
                            "#ed7953"
                          ],
                          [
                            0.7777777777777778,
                            "#fb9f3a"
                          ],
                          [
                            0.8888888888888888,
                            "#fdca26"
                          ],
                          [
                            1,
                            "#f0f921"
                          ]
                        ],
                        "type": "contour"
                      }
                    ],
                    "contourcarpet": [
                      {
                        "colorbar": {
                          "outlinewidth": 0,
                          "ticks": ""
                        },
                        "type": "contourcarpet"
                      }
                    ],
                    "heatmap": [
                      {
                        "colorbar": {
                          "outlinewidth": 0,
                          "ticks": ""
                        },
                        "colorscale": [
                          [
                            0,
                            "#0d0887"
                          ],
                          [
                            0.1111111111111111,
                            "#46039f"
                          ],
                          [
                            0.2222222222222222,
                            "#7201a8"
                          ],
                          [
                            0.3333333333333333,
                            "#9c179e"
                          ],
                          [
                            0.4444444444444444,
                            "#bd3786"
                          ],
                          [
                            0.5555555555555556,
                            "#d8576b"
                          ],
                          [
                            0.6666666666666666,
                            "#ed7953"
                          ],
                          [
                            0.7777777777777778,
                            "#fb9f3a"
                          ],
                          [
                            0.8888888888888888,
                            "#fdca26"
                          ],
                          [
                            1,
                            "#f0f921"
                          ]
                        ],
                        "type": "heatmap"
                      }
                    ],
                    "histogram": [
                      {
                        "marker": {
                          "pattern": {
                            "fillmode": "overlay",
                            "size": 10,
                            "solidity": 0.2
                          }
                        },
                        "type": "histogram"
                      }
                    ],
                    "histogram2d": [
                      {
                        "colorbar": {
                          "outlinewidth": 0,
                          "ticks": ""
                        },
                        "colorscale": [
                          [
                            0,
                            "#0d0887"
                          ],
                          [
                            0.1111111111111111,
                            "#46039f"
                          ],
                          [
                            0.2222222222222222,
                            "#7201a8"
                          ],
                          [
                            0.3333333333333333,
                            "#9c179e"
                          ],
                          [
                            0.4444444444444444,
                            "#bd3786"
                          ],
                          [
                            0.5555555555555556,
                            "#d8576b"
                          ],
                          [
                            0.6666666666666666,
                            "#ed7953"
                          ],
                          [
                            0.7777777777777778,
                            "#fb9f3a"
                          ],
                          [
                            0.8888888888888888,
                            "#fdca26"
                          ],
                          [
                            1,
                            "#f0f921"
                          ]
                        ],
                        "type": "histogram2d"
                      }
                    ],
                    "histogram2dcontour": [
                      {
                        "colorbar": {
                          "outlinewidth": 0,
                          "ticks": ""
                        },
                        "colorscale": [
                          [
                            0,
                            "#0d0887"
                          ],
                          [
                            0.1111111111111111,
                            "#46039f"
                          ],
                          [
                            0.2222222222222222,
                            "#7201a8"
                          ],
                          [
                            0.3333333333333333,
                            "#9c179e"
                          ],
                          [
                            0.4444444444444444,
                            "#bd3786"
                          ],
                          [
                            0.5555555555555556,
                            "#d8576b"
                          ],
                          [
                            0.6666666666666666,
                            "#ed7953"
                          ],
                          [
                            0.7777777777777778,
                            "#fb9f3a"
                          ],
                          [
                            0.8888888888888888,
                            "#fdca26"
                          ],
                          [
                            1,
                            "#f0f921"
                          ]
                        ],
                        "type": "histogram2dcontour"
                      }
                    ],
                    "mesh3d": [
                      {
                        "colorbar": {
                          "outlinewidth": 0,
                          "ticks": ""
                        },
                        "type": "mesh3d"
                      }
                    ],
                    "parcoords": [
                      {
                        "line": {
                          "colorbar": {
                            "outlinewidth": 0,
                            "ticks": ""
                          }
                        },
                        "type": "parcoords"
                      }
                    ],
                    "pie": [
                      {
                        "automargin": true,
                        "type": "pie"
                      }
                    ],
                    "scatter": [
                      {
                        "fillpattern": {
                          "fillmode": "overlay",
                          "size": 10,
                          "solidity": 0.2
                        },
                        "type": "scatter"
                      }
                    ],
                    "scatter3d": [
                      {
                        "line": {
                          "colorbar": {
                            "outlinewidth": 0,
                            "ticks": ""
                          }
                        },
                        "marker": {
                          "colorbar": {
                            "outlinewidth": 0,
                            "ticks": ""
                          }
                        },
                        "type": "scatter3d"
                      }
                    ],
                    "scattercarpet": [
                      {
                        "marker": {
                          "colorbar": {
                            "outlinewidth": 0,
                            "ticks": ""
                          }
                        },
                        "type": "scattercarpet"
                      }
                    ],
                    "scattergeo": [
                      {
                        "marker": {
                          "colorbar": {
                            "outlinewidth": 0,
                            "ticks": ""
                          }
                        },
                        "type": "scattergeo"
                      }
                    ],
                    "scattergl": [
                      {
                        "marker": {
                          "colorbar": {
                            "outlinewidth": 0,
                            "ticks": ""
                          }
                        },
                        "type": "scattergl"
                      }
                    ],
                    "scattermap": [
                      {
                        "marker": {
                          "colorbar": {
                            "outlinewidth": 0,
                            "ticks": ""
                          }
                        },
                        "type": "scattermap"
                      }
                    ],
                    "scattermapbox": [
                      {
                        "marker": {
                          "colorbar": {
                            "outlinewidth": 0,
                            "ticks": ""
                          }
                        },
                        "type": "scattermapbox"
                      }
                    ],
                    "scatterpolar": [
                      {
                        "marker": {
                          "colorbar": {
                            "outlinewidth": 0,
                            "ticks": ""
                          }
                        },
                        "type": "scatterpolar"
                      }
                    ],
                    "scatterpolargl": [
                      {
                        "marker": {
                          "colorbar": {
                            "outlinewidth": 0,
                            "ticks": ""
                          }
                        },
                        "type": "scatterpolargl"
                      }
                    ],
                    "scatterternary": [
                      {
                        "marker": {
                          "colorbar": {
                            "outlinewidth": 0,
                            "ticks": ""
                          }
                        },
                        "type": "scatterternary"
                      }
                    ],
                    "surface": [
                      {
                        "colorbar": {
                          "outlinewidth": 0,
                          "ticks": ""
                        },
                        "colorscale": [
                          [
                            0,
                            "#0d0887"
                          ],
                          [
                            0.1111111111111111,
                            "#46039f"
                          ],
                          [
                            0.2222222222222222,
                            "#7201a8"
                          ],
                          [
                            0.3333333333333333,
                            "#9c179e"
                          ],
                          [
                            0.4444444444444444,
                            "#bd3786"
                          ],
                          [
                            0.5555555555555556,
                            "#d8576b"
                          ],
                          [
                            0.6666666666666666,
                            "#ed7953"
                          ],
                          [
                            0.7777777777777778,
                            "#fb9f3a"
                          ],
                          [
                            0.8888888888888888,
                            "#fdca26"
                          ],
                          [
                            1,
                            "#f0f921"
                          ]
                        ],
                        "type": "surface"
                      }
                    ],
                    "table": [
                      {
                        "cells": {
                          "fill": {
                            "color": "#EBF0F8"
                          },
                          "line": {
                            "color": "white"
                          }
                        },
                        "header": {
                          "fill": {
                            "color": "#C8D4E3"
                          },
                          "line": {
                            "color": "white"
                          }
                        },
                        "type": "table"
                      }
                    ]
                  },
                  "layout": {
                    "annotationdefaults": {
                      "arrowcolor": "#2a3f5f",
                      "arrowhead": 0,
                      "arrowwidth": 1
                    },
                    "autotypenumbers": "strict",
                    "coloraxis": {
                      "colorbar": {
                        "outlinewidth": 0,
                        "ticks": ""
                      }
                    },
                    "colorscale": {
                      "diverging": [
                        [
                          0,
                          "#8e0152"
                        ],
                        [
                          0.1,
                          "#c51b7d"
                        ],
                        [
                          0.2,
                          "#de77ae"
                        ],
                        [
                          0.3,
                          "#f1b6da"
                        ],
                        [
                          0.4,
                          "#fde0ef"
                        ],
                        [
                          0.5,
                          "#f7f7f7"
                        ],
                        [
                          0.6,
                          "#e6f5d0"
                        ],
                        [
                          0.7,
                          "#b8e186"
                        ],
                        [
                          0.8,
                          "#7fbc41"
                        ],
                        [
                          0.9,
                          "#4d9221"
                        ],
                        [
                          1,
                          "#276419"
                        ]
                      ],
                      "sequential": [
                        [
                          0,
                          "#0d0887"
                        ],
                        [
                          0.1111111111111111,
                          "#46039f"
                        ],
                        [
                          0.2222222222222222,
                          "#7201a8"
                        ],
                        [
                          0.3333333333333333,
                          "#9c179e"
                        ],
                        [
                          0.4444444444444444,
                          "#bd3786"
                        ],
                        [
                          0.5555555555555556,
                          "#d8576b"
                        ],
                        [
                          0.6666666666666666,
                          "#ed7953"
                        ],
                        [
                          0.7777777777777778,
                          "#fb9f3a"
                        ],
                        [
                          0.8888888888888888,
                          "#fdca26"
                        ],
                        [
                          1,
                          "#f0f921"
                        ]
                      ],
                      "sequentialminus": [
                        [
                          0,
                          "#0d0887"
                        ],
                        [
                          0.1111111111111111,
                          "#46039f"
                        ],
                        [
                          0.2222222222222222,
                          "#7201a8"
                        ],
                        [
                          0.3333333333333333,
                          "#9c179e"
                        ],
                        [
                          0.4444444444444444,
                          "#bd3786"
                        ],
                        [
                          0.5555555555555556,
                          "#d8576b"
                        ],
                        [
                          0.6666666666666666,
                          "#ed7953"
                        ],
                        [
                          0.7777777777777778,
                          "#fb9f3a"
                        ],
                        [
                          0.8888888888888888,
                          "#fdca26"
                        ],
                        [
                          1,
                          "#f0f921"
                        ]
                      ]
                    },
                    "colorway": [
                      "#636efa",
                      "#EF553B",
                      "#00cc96",
                      "#ab63fa",
                      "#FFA15A",
                      "#19d3f3",
                      "#FF6692",
                      "#B6E880",
                      "#FF97FF",
                      "#FECB52"
                    ],
                    "font": {
                      "color": "#2a3f5f"
                    },
                    "geo": {
                      "bgcolor": "white",
                      "lakecolor": "white",
                      "landcolor": "#E5ECF6",
                      "showlakes": true,
                      "showland": true,
                      "subunitcolor": "white"
                    },
                    "hoverlabel": {
                      "align": "left"
                    },
                    "hovermode": "closest",
                    "mapbox": {
                      "style": "light"
                    },
                    "paper_bgcolor": "white",
                    "plot_bgcolor": "#E5ECF6",
                    "polar": {
                      "angularaxis": {
                        "gridcolor": "white",
                        "linecolor": "white",
                        "ticks": ""
                      },
                      "bgcolor": "#E5ECF6",
                      "radialaxis": {
                        "gridcolor": "white",
                        "linecolor": "white",
                        "ticks": ""
                      }
                    },
                    "scene": {
                      "xaxis": {
                        "backgroundcolor": "#E5ECF6",
                        "gridcolor": "white",
                        "gridwidth": 2,
                        "linecolor": "white",
                        "showbackground": true,
                        "ticks": "",
                        "zerolinecolor": "white"
                      },
                      "yaxis": {
                        "backgroundcolor": "#E5ECF6",
                        "gridcolor": "white",
                        "gridwidth": 2,
                        "linecolor": "white",
                        "showbackground": true,
                        "ticks": "",
                        "zerolinecolor": "white"
                      },
                      "zaxis": {
                        "backgroundcolor": "#E5ECF6",
                        "gridcolor": "white",
                        "gridwidth": 2,
                        "linecolor": "white",
                        "showbackground": true,
                        "ticks": "",
                        "zerolinecolor": "white"
                      }
                    },
                    "shapedefaults": {
                      "line": {
                        "color": "#2a3f5f"
                      }
                    },
                    "ternary": {
                      "aaxis": {
                        "gridcolor": "white",
                        "linecolor": "white",
                        "ticks": ""
                      },
                      "baxis": {
                        "gridcolor": "white",
                        "linecolor": "white",
                        "ticks": ""
                      },
                      "bgcolor": "#E5ECF6",
                      "caxis": {
                        "gridcolor": "white",
                        "linecolor": "white",
                        "ticks": ""
                      }
                    },
                    "title": {
                      "x": 0.05
                    },
                    "xaxis": {
                      "automargin": true,
                      "gridcolor": "white",
                      "linecolor": "white",
                      "ticks": "",
                      "title": {
                        "standoff": 15
                      },
                      "zerolinecolor": "white",
                      "zerolinewidth": 2
                    },
                    "yaxis": {
                      "automargin": true,
                      "gridcolor": "white",
                      "linecolor": "white",
                      "ticks": "",
                      "title": {
                        "standoff": 15
                      },
                      "zerolinecolor": "white",
                      "zerolinewidth": 2
                    }
                  }
                },
                "title": {
                  "text": "Mapa geográfico de calor - Casos por ciudad"
                }
              }
            }
          },
          "metadata": {},
          "output_type": "display_data"
        }
      ],
      "source": [
        "# ====================================================\n",
        "# 📊 Visualización por Ciudad (con Plotly y widgets)\n",
        "# ====================================================\n",
        "import pandas as pd\n",
        "import plotly.express as px\n",
        "import plotly.graph_objects as go\n",
        "from ipywidgets import interact, widgets, interactive_output\n",
        "from IPython.display import display, clear_output\n",
        "\n",
        "# --- Cargar dataset base ---\n",
        "df = pd.read_csv(\"dataset_comunidades_senasoft.csv\")\n",
        "\n",
        "# --- Filtrar solo Medio Ambiente ---\n",
        "ambiente_viz = df[df[\"Categoría del problema\"].str.lower() == \"medio ambiente\"].copy()\n",
        "\n",
        "# --- Limpieza básica ---\n",
        "ambiente_viz = ambiente_viz.dropna(subset=[\"Ciudad\", \"Edad\", \"Nivel de urgencia\"])\n",
        "ambiente_viz[\"Edad\"] = pd.to_numeric(ambiente_viz[\"Edad\"], errors=\"coerce\")\n",
        "ambiente_viz = ambiente_viz.dropna(subset=[\"Edad\"])\n",
        "ambiente_viz[\"Nivel de urgencia\"] = ambiente_viz[\"Nivel de urgencia\"].str.lower().str.strip()\n",
        "\n",
        "# --- Crear feature de vulnerabilidad (simplificada) ---\n",
        "def crear_features_viz(df):\n",
        "    df = df.copy()\n",
        "    df[\"Acceso a internet\"] = pd.to_numeric(df[\"Acceso a internet\"], errors=\"coerce\").fillna(0).astype(int)\n",
        "    df[\"Atención previa del gobierno\"] = pd.to_numeric(df[\"Atención previa del gobierno\"], errors=\"coerce\").fillna(0).astype(int)\n",
        "    df[\"Zona rural\"] = pd.to_numeric(df[\"Zona rural\"], errors=\"coerce\").fillna(0).astype(int)\n",
        "    df[\"Vulnerabilidad_Total\"] = (\n",
        "        df[\"Zona rural\"] * 3 +\n",
        "        (1 - df[\"Acceso a internet\"]) * 2 +\n",
        "        (1 - df[\"Atención previa del gobierno\"]) * 2.5\n",
        "    )\n",
        "    return df\n",
        "\n",
        "ambiente_viz = crear_features_viz(ambiente_viz)\n",
        "\n",
        "# --- Coordenadas aproximadas de ciudades ---\n",
        "coords_ciudades = {\n",
        "    \"Bogotá\": (4.7110, -74.0721),\n",
        "    \"Medellín\": (6.2442, -75.5812),\n",
        "    \"Cali\": (3.4516, -76.5320),\n",
        "    \"Barranquilla\": (10.9639, -74.7964),\n",
        "    \"Cartagena\": (10.3910, -75.4794),\n",
        "    \"Bucaramanga\": (7.1193, -73.1227),\n",
        "    \"Pereira\": (4.8143, -75.6946),\n",
        "    \"Manizales\": (5.0703, -75.5138),\n",
        "    \"Cúcuta\": (7.8939, -72.5078),\n",
        "    \"Ibagué\": (4.4389, -75.2322),\n",
        "    \"Neiva\": (2.9386, -75.2819),\n",
        "    \"Villavicencio\": (4.1420, -73.6266),\n",
        "    \"Santa Marta\": (11.2408, -74.1990),\n",
        "    \"Popayán\": (2.4448, -76.6147),\n",
        "    \"Montería\": (8.7489, -75.8814),\n",
        "    \"Pasto\": (1.2136, -77.2811)\n",
        "}\n",
        "ambiente_viz[\"lat\"] = ambiente_viz[\"Ciudad\"].map(lambda c: coords_ciudades.get(c, (None, None))[0])\n",
        "ambiente_viz[\"lon\"] = ambiente_viz[\"Ciudad\"].map(lambda c: coords_ciudades.get(c, (None, None))[1])\n",
        "\n",
        "# --- Ciudades disponibles ---\n",
        "ciudades_disponibles = sorted(ambiente_viz[\"Ciudad\"].dropna().unique())\n",
        "\n",
        "# --- Función principal de visualización ---\n",
        "def visualizar_ciudad(ciudad):\n",
        "    clear_output(wait=True)\n",
        "    print(f\"📍 Ciudad seleccionada: {ciudad}\")\n",
        "\n",
        "    dfc = ambiente_viz[ambiente_viz[\"Ciudad\"] == ciudad]\n",
        "    if dfc.empty:\n",
        "        print(\"❌ No hay registros para esta ciudad.\")\n",
        "        return\n",
        "\n",
        "    # 1️⃣ Distribución de nivel de urgencia\n",
        "    urg_counts = dfc[\"Nivel de urgencia\"].value_counts().reset_index()\n",
        "    urg_counts.columns = [\"Nivel de urgencia\", \"Cantidad\"]\n",
        "    fig1 = px.bar(\n",
        "        urg_counts, x=\"Nivel de urgencia\", y=\"Cantidad\",\n",
        "        color=\"Nivel de urgencia\", text=\"Cantidad\",\n",
        "        title=f\"Distribución de Nivel de Urgencia - {ciudad}\",\n",
        "        template=\"plotly_white\"\n",
        "    )\n",
        "    fig1.update_traces(textposition=\"outside\")\n",
        "    fig1.show()\n",
        "\n",
        "    # 2️⃣ Distribución por edad\n",
        "    fig2 = px.histogram(\n",
        "        dfc, x=\"Edad\", nbins=20, color=\"Nivel de urgencia\",\n",
        "        marginal=\"box\",\n",
        "        title=f\"Distribución de Edades por Urgencia - {ciudad}\",\n",
        "        template=\"plotly_white\"\n",
        "    )\n",
        "    fig2.show()\n",
        "\n",
        "    # 7️⃣ Promedio de vulnerabilidad total por ciudad\n",
        "    vuln_city = (\n",
        "        ambiente_viz.groupby(\"Ciudad\")[\"Vulnerabilidad_Total\"]\n",
        "        .mean().reset_index().sort_values(by=\"Vulnerabilidad_Total\", ascending=False)\n",
        "    )\n",
        "    fig3 = px.bar(\n",
        "        vuln_city, x=\"Vulnerabilidad_Total\", y=\"Ciudad\",\n",
        "        orientation=\"h\", text=\"Vulnerabilidad_Total\",\n",
        "        title=\"Promedio de Vulnerabilidad Total por Ciudad\",\n",
        "        template=\"plotly_white\", color=\"Vulnerabilidad_Total\"\n",
        "    )\n",
        "    fig3.update_traces(texttemplate=\"%{text:.2f}\", textposition=\"outside\")\n",
        "    fig3.show()\n",
        "\n",
        "    # 8️⃣ Relación Edad vs Vulnerabilidad Total\n",
        "    fig4 = px.scatter(\n",
        "        dfc, x=\"Edad\", y=\"Vulnerabilidad_Total\", color=\"Nivel de urgencia\",\n",
        "        symbol=\"Zona rural\",\n",
        "        hover_data=[\"Acceso a internet\", \"Atención previa del gobierno\"],\n",
        "        title=f\"Edad vs Vulnerabilidad Total - {ciudad}\",\n",
        "        template=\"plotly_white\"\n",
        "    )\n",
        "    fig4.show()\n",
        "\n",
        "    # 9️⃣ Mapa geográfico de calor (casos por ciudad)\n",
        "    casos_ciudad = (\n",
        "        ambiente_viz.groupby([\"Ciudad\", \"lat\", \"lon\"])\n",
        "        .size().reset_index(name=\"Casos\")\n",
        "    )\n",
        "    casos_ciudad = casos_ciudad.dropna(subset=[\"lat\", \"lon\"])\n",
        "\n",
        "    fig5 = px.scatter_mapbox(\n",
        "        casos_ciudad,\n",
        "        lat=\"lat\", lon=\"lon\", size=\"Casos\",\n",
        "        color=\"Casos\", hover_name=\"Ciudad\",\n",
        "        zoom=4.3,\n",
        "        color_continuous_scale=\"Viridis\",\n",
        "        mapbox_style=\"carto-positron\",\n",
        "        title=\"Mapa geográfico de calor - Casos por ciudad\"\n",
        "    )\n",
        "    fig5.show()\n",
        "\n",
        "# --- Selector interactivo manual ---\n",
        "selector = widgets.Dropdown(\n",
        "    options=ciudades_disponibles,\n",
        "    description='Ciudad:',\n",
        "    style={'description_width': 'initial'},\n",
        "    layout=widgets.Layout(width='50%')\n",
        ")\n",
        "display(selector)\n",
        "\n",
        "def on_change(change):\n",
        "    if change['type'] == 'change' and change['name'] == 'value':\n",
        "        visualizar_ciudad(change['new'])\n",
        "\n",
        "selector.observe(on_change)\n",
        "print(\"✅ Selecciona una ciudad en el menú desplegable para ver las gráficas.\")\n"
      ]
    },
    {
      "cell_type": "code",
      "execution_count": 14,
      "metadata": {},
      "outputs": [
        {
          "data": {
            "text/plain": [
              "['umbral_pereira.pkl']"
            ]
          },
          "execution_count": 14,
          "metadata": {},
          "output_type": "execute_result"
        }
      ],
      "source": [
        "import joblib\n",
        "\n",
        "joblib.dump(resultados[\"Pereira\"][\"modelo\"], \"modelo_urgencia_pereira.keras\")\n",
        "joblib.dump(resultados[\"Pereira\"][\"escalador\"], \"scaler_pereira.pkl\")\n",
        "joblib.dump(resultados[\"Pereira\"][\"umbral\"], \"umbral_pereira.pkl\")\n"
      ]
    },
    {
      "cell_type": "code",
      "execution_count": 16,
      "metadata": {},
      "outputs": [
        {
          "name": "stdout",
          "output_type": "stream",
          "text": [
            "\n",
            "======================================================================\n",
            "📍 ENTRENANDO MODELO PARA CIUDAD: BOGOTÁ\n",
            "======================================================================\n",
            "✅ Balanceo con SMOTEENN → Clase 0: 212, Clase 1: 166\n",
            "\n",
            "📂 Fold 1/5\n",
            "\u001b[1m3/3\u001b[0m \u001b[32m━━━━━━━━━━━━━━━━━━━━\u001b[0m\u001b[37m\u001b[0m \u001b[1m0s\u001b[0m 80ms/step\n",
            "🔹 Fold 1 → F1: 0.909 | Acc: 0.921 | Prec: 0.909 | Rec: 0.909 | Th: 0.51\n",
            "\n",
            "📂 Fold 2/5\n",
            "\u001b[1m3/3\u001b[0m \u001b[32m━━━━━━━━━━━━━━━━━━━━\u001b[0m\u001b[37m\u001b[0m \u001b[1m0s\u001b[0m 56ms/step\n",
            "🔹 Fold 2 → F1: 0.909 | Acc: 0.921 | Prec: 0.909 | Rec: 0.909 | Th: 0.51\n",
            "\n",
            "📂 Fold 3/5\n",
            "\u001b[1m3/3\u001b[0m \u001b[32m━━━━━━━━━━━━━━━━━━━━\u001b[0m\u001b[37m\u001b[0m \u001b[1m0s\u001b[0m 83ms/step\n",
            "🔹 Fold 3 → F1: 0.912 | Acc: 0.921 | Prec: 0.912 | Rec: 0.912 | Th: 0.53\n",
            "\n",
            "📂 Fold 4/5\n",
            "\u001b[1m3/3\u001b[0m \u001b[32m━━━━━━━━━━━━━━━━━━━━\u001b[0m\u001b[37m\u001b[0m \u001b[1m0s\u001b[0m 62ms/step\n",
            "🔹 Fold 4 → F1: 0.875 | Acc: 0.893 | Prec: 0.903 | Rec: 0.848 | Th: 0.52\n",
            "\n",
            "📂 Fold 5/5\n",
            "\u001b[1m3/3\u001b[0m \u001b[32m━━━━━━━━━━━━━━━━━━━━\u001b[0m\u001b[37m\u001b[0m \u001b[1m0s\u001b[0m 57ms/step\n",
            "🔹 Fold 5 → F1: 0.419 | Acc: 0.667 | Prec: 0.900 | Rec: 0.273 | Th: 0.75\n",
            "\n",
            "🔧 Umbral promedio (prec ≥ 0.9): 0.563\n",
            "\u001b[1m12/12\u001b[0m \u001b[32m━━━━━━━━━━━━━━━━━━━━\u001b[0m\u001b[37m\u001b[0m \u001b[1m0s\u001b[0m 11ms/step\n",
            "\n",
            "🔧 Umbral global: 0.563\n",
            "📊 Reporte final:\n",
            "              precision    recall  f1-score   support\n",
            "\n",
            "  No Urgente       0.91      0.94      0.93       212\n",
            "     Urgente       0.92      0.88      0.90       166\n",
            "\n",
            "    accuracy                           0.92       378\n",
            "   macro avg       0.92      0.91      0.91       378\n",
            "weighted avg       0.92      0.92      0.92       378\n",
            "\n",
            "📉 Matriz de confusión:\n",
            "[[200  12]\n",
            " [ 20 146]]\n",
            "\n",
            "📈 F1 promedio: 0.805\n",
            "🎯 Precisión promedio: 0.907\n",
            "📉 Recall promedio: 0.770\n",
            "✅ Exactitud promedio: 0.865\n",
            "\n",
            "🏁 Entrenamiento completado para BOGOTÁ ✅\n"
          ]
        }
      ],
      "source": [
        "modelo_final, scaler, avg_threshold = entrenar_hibrido_mejor_precision(\"Bogotá\")"
      ]
    },
    {
      "cell_type": "code",
      "execution_count": 17,
      "metadata": {},
      "outputs": [
        {
          "name": "stdout",
          "output_type": "stream",
          "text": [
            "✅ Archivos del modelo de Pereira guardados correctamente.\n"
          ]
        }
      ],
      "source": [
        "import pickle\n",
        "import os\n",
        "\n",
        "os.makedirs(\"modelos\", exist_ok=True)\n",
        "\n",
        "# Guardar el modelo Keras\n",
        "modelo_final.save(\"modelos/modelo_urgencia_bogota.keras\")\n",
        "\n",
        "# Guardar el escalador (scaler)\n",
        "with open(\"modelos/escalador_bogota.pkl\", \"wb\") as f:\n",
        "    pickle.dump(scaler, f)\n",
        "\n",
        "# Guardar el umbral\n",
        "with open(\"modelos/umbral_bogota.pkl\", \"w\") as f:\n",
        "    f.write(str(avg_threshold))\n",
        "\n",
        "print(\"✅ Archivos del modelo de Pereira guardados correctamente.\")\n"
      ]
    },
    {
      "cell_type": "code",
      "execution_count": null,
      "metadata": {},
      "outputs": [],
      "source": []
    }
  ],
  "metadata": {
    "colab": {
      "provenance": []
    },
    "kernelspec": {
      "display_name": "llms",
      "language": "python",
      "name": "python3"
    },
    "language_info": {
      "codemirror_mode": {
        "name": "ipython",
        "version": 3
      },
      "file_extension": ".py",
      "mimetype": "text/x-python",
      "name": "python",
      "nbconvert_exporter": "python",
      "pygments_lexer": "ipython3",
      "version": "3.11.14"
    },
    "widgets": {
      "application/vnd.jupyter.widget-state+json": {
        "4b0f87ee1331447ab4f6ba770b63c828": {
          "model_module": "@jupyter-widgets/controls",
          "model_module_version": "1.5.0",
          "model_name": "DescriptionStyleModel",
          "state": {
            "_model_module": "@jupyter-widgets/controls",
            "_model_module_version": "1.5.0",
            "_model_name": "DescriptionStyleModel",
            "_view_count": null,
            "_view_module": "@jupyter-widgets/base",
            "_view_module_version": "1.2.0",
            "_view_name": "StyleView",
            "description_width": "initial"
          }
        },
        "ab07121f2dda4b7a8dc501df6d753162": {
          "model_module": "@jupyter-widgets/base",
          "model_module_version": "1.2.0",
          "model_name": "LayoutModel",
          "state": {
            "_model_module": "@jupyter-widgets/base",
            "_model_module_version": "1.2.0",
            "_model_name": "LayoutModel",
            "_view_count": null,
            "_view_module": "@jupyter-widgets/base",
            "_view_module_version": "1.2.0",
            "_view_name": "LayoutView",
            "align_content": null,
            "align_items": null,
            "align_self": null,
            "border": null,
            "bottom": null,
            "display": null,
            "flex": null,
            "flex_flow": null,
            "grid_area": null,
            "grid_auto_columns": null,
            "grid_auto_flow": null,
            "grid_auto_rows": null,
            "grid_column": null,
            "grid_gap": null,
            "grid_row": null,
            "grid_template_areas": null,
            "grid_template_columns": null,
            "grid_template_rows": null,
            "height": null,
            "justify_content": null,
            "justify_items": null,
            "left": null,
            "margin": null,
            "max_height": null,
            "max_width": null,
            "min_height": null,
            "min_width": null,
            "object_fit": null,
            "object_position": null,
            "order": null,
            "overflow": null,
            "overflow_x": null,
            "overflow_y": null,
            "padding": null,
            "right": null,
            "top": null,
            "visibility": null,
            "width": "50%"
          }
        },
        "bc4560a1b6644872b0fba62870f95b46": {
          "model_module": "@jupyter-widgets/controls",
          "model_module_version": "1.5.0",
          "model_name": "DropdownModel",
          "state": {
            "_dom_classes": [],
            "_model_module": "@jupyter-widgets/controls",
            "_model_module_version": "1.5.0",
            "_model_name": "DropdownModel",
            "_options_labels": [
              "Barranquilla",
              "Bogotá",
              "Bucaramanga",
              "Cali",
              "Cartagena",
              "Cúcuta",
              "Manizales",
              "Medellín",
              "Pereira",
              "Santa Marta"
            ],
            "_view_count": null,
            "_view_module": "@jupyter-widgets/controls",
            "_view_module_version": "1.5.0",
            "_view_name": "DropdownView",
            "description": "Ciudad:",
            "description_tooltip": null,
            "disabled": false,
            "index": 3,
            "layout": "IPY_MODEL_ab07121f2dda4b7a8dc501df6d753162",
            "style": "IPY_MODEL_4b0f87ee1331447ab4f6ba770b63c828"
          }
        }
      }
    }
  },
  "nbformat": 4,
  "nbformat_minor": 0
}
